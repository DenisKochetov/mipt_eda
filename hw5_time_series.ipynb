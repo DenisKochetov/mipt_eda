{
  "cells": [
    {
      "cell_type": "markdown",
      "id": "9b9a2f49",
      "metadata": {
        "id": "9b9a2f49"
      },
      "source": [
        "# Домашнее задание 6 - временные ряды"
      ]
    },
    {
      "cell_type": "markdown",
      "id": "4ec1b582",
      "metadata": {
        "id": "4ec1b582"
      },
      "source": [
        "__Оценки-баллы__: \n",
        "- 1: 1\n",
        "- 2: 2\n",
        "- 3: 3-4\n",
        "- 4: 5-6\n",
        "- 5: 7-9\n",
        "- 6: 10-12\n",
        "- 7: 13-14\n",
        "- 8: 15-16\n",
        "- 9: 17\n",
        "- 10: 18-30\n",
        "\n",
        "__DL (срок сдачи ДЗ)__: 22.12.2021 22:00. После этого срока работы НЕ будут приниматься\n",
        "\n",
        "__Формат сдачи - в личный аккаунт telegram: @zhuikov_vv__: hw12_14_ivanov_i_i.ipynb"
      ]
    },
    {
      "cell_type": "code",
      "execution_count": 1,
      "id": "91ef503f",
      "metadata": {
        "colab": {
          "base_uri": "https://localhost:8080/"
        },
        "id": "91ef503f",
        "outputId": "bc459dea-a69f-482e-d2bf-9d4ad1dd5436"
      },
      "outputs": [
        {
          "output_type": "stream",
          "name": "stderr",
          "text": [
            "/usr/local/lib/python3.7/dist-packages/statsmodels/tools/_testing.py:19: FutureWarning:\n",
            "\n",
            "pandas.util.testing is deprecated. Use the functions in the public API at pandas.testing instead.\n",
            "\n"
          ]
        }
      ],
      "source": [
        "import pandas as pd\n",
        "import plotly.express as px\n",
        "import statsmodels.api as sm\n",
        "from statsmodels.graphics.tsaplots import plot_acf, plot_pacf\n",
        "from statsmodels.tsa.stattools import adfuller, kpss, grangercausalitytests\n",
        "from statsmodels.tsa.statespace.sarimax import SARIMAX\n",
        "\n",
        "data = sm.datasets.macrodata.load_pandas().data"
      ]
    },
    {
      "cell_type": "markdown",
      "id": "402be3e9",
      "metadata": {
        "id": "402be3e9"
      },
      "source": [
        "Вам представлены квартальные макроэкономические данные США. В датасете представлен ВВП, его компоненты (совокупный доход, потребление и инвестиции), а также прочие показатели. Задача - спрогнозировать ВВП Америки на 8 кварталов вперёд. Метрика - MAPE. Все гипотезы тестируются на уровне значимости 5%"
      ]
    },
    {
      "cell_type": "markdown",
      "id": "b707baa0",
      "metadata": {
        "id": "b707baa0"
      },
      "source": [
        "### Задание 1 [5]"
      ]
    },
    {
      "cell_type": "markdown",
      "id": "f01934db",
      "metadata": {
        "id": "f01934db"
      },
      "source": [
        "Приведите в порядок переменную, отвечающую за время и преобразуйте её в формат pandas datetime с квартальной периодичностью. Визуализируйте ряд ВВП. Какие характерные паттерны вы наблюдаете?"
      ]
    },
    {
      "cell_type": "code",
      "execution_count": 2,
      "id": "570ef40f",
      "metadata": {
        "colab": {
          "base_uri": "https://localhost:8080/",
          "height": 423
        },
        "id": "570ef40f",
        "outputId": "35567e29-2909-493d-dfab-4befd7269ab0"
      },
      "outputs": [
        {
          "output_type": "execute_result",
          "data": {
            "text/html": [
              "\n",
              "  <div id=\"df-4d49fc64-6a1c-4ef3-bfd2-eb30b3bb477f\">\n",
              "    <div class=\"colab-df-container\">\n",
              "      <div>\n",
              "<style scoped>\n",
              "    .dataframe tbody tr th:only-of-type {\n",
              "        vertical-align: middle;\n",
              "    }\n",
              "\n",
              "    .dataframe tbody tr th {\n",
              "        vertical-align: top;\n",
              "    }\n",
              "\n",
              "    .dataframe thead th {\n",
              "        text-align: right;\n",
              "    }\n",
              "</style>\n",
              "<table border=\"1\" class=\"dataframe\">\n",
              "  <thead>\n",
              "    <tr style=\"text-align: right;\">\n",
              "      <th></th>\n",
              "      <th>year</th>\n",
              "      <th>quarter</th>\n",
              "      <th>realgdp</th>\n",
              "      <th>realcons</th>\n",
              "      <th>realinv</th>\n",
              "      <th>realgovt</th>\n",
              "      <th>realdpi</th>\n",
              "      <th>cpi</th>\n",
              "      <th>m1</th>\n",
              "      <th>tbilrate</th>\n",
              "      <th>unemp</th>\n",
              "      <th>pop</th>\n",
              "      <th>infl</th>\n",
              "      <th>realint</th>\n",
              "    </tr>\n",
              "  </thead>\n",
              "  <tbody>\n",
              "    <tr>\n",
              "      <th>0</th>\n",
              "      <td>1959.0</td>\n",
              "      <td>1.0</td>\n",
              "      <td>2710.349</td>\n",
              "      <td>1707.4</td>\n",
              "      <td>286.898</td>\n",
              "      <td>470.045</td>\n",
              "      <td>1886.9</td>\n",
              "      <td>28.980</td>\n",
              "      <td>139.7</td>\n",
              "      <td>2.82</td>\n",
              "      <td>5.8</td>\n",
              "      <td>177.146</td>\n",
              "      <td>0.00</td>\n",
              "      <td>0.00</td>\n",
              "    </tr>\n",
              "    <tr>\n",
              "      <th>1</th>\n",
              "      <td>1959.0</td>\n",
              "      <td>2.0</td>\n",
              "      <td>2778.801</td>\n",
              "      <td>1733.7</td>\n",
              "      <td>310.859</td>\n",
              "      <td>481.301</td>\n",
              "      <td>1919.7</td>\n",
              "      <td>29.150</td>\n",
              "      <td>141.7</td>\n",
              "      <td>3.08</td>\n",
              "      <td>5.1</td>\n",
              "      <td>177.830</td>\n",
              "      <td>2.34</td>\n",
              "      <td>0.74</td>\n",
              "    </tr>\n",
              "    <tr>\n",
              "      <th>2</th>\n",
              "      <td>1959.0</td>\n",
              "      <td>3.0</td>\n",
              "      <td>2775.488</td>\n",
              "      <td>1751.8</td>\n",
              "      <td>289.226</td>\n",
              "      <td>491.260</td>\n",
              "      <td>1916.4</td>\n",
              "      <td>29.350</td>\n",
              "      <td>140.5</td>\n",
              "      <td>3.82</td>\n",
              "      <td>5.3</td>\n",
              "      <td>178.657</td>\n",
              "      <td>2.74</td>\n",
              "      <td>1.09</td>\n",
              "    </tr>\n",
              "    <tr>\n",
              "      <th>3</th>\n",
              "      <td>1959.0</td>\n",
              "      <td>4.0</td>\n",
              "      <td>2785.204</td>\n",
              "      <td>1753.7</td>\n",
              "      <td>299.356</td>\n",
              "      <td>484.052</td>\n",
              "      <td>1931.3</td>\n",
              "      <td>29.370</td>\n",
              "      <td>140.0</td>\n",
              "      <td>4.33</td>\n",
              "      <td>5.6</td>\n",
              "      <td>179.386</td>\n",
              "      <td>0.27</td>\n",
              "      <td>4.06</td>\n",
              "    </tr>\n",
              "    <tr>\n",
              "      <th>4</th>\n",
              "      <td>1960.0</td>\n",
              "      <td>1.0</td>\n",
              "      <td>2847.699</td>\n",
              "      <td>1770.5</td>\n",
              "      <td>331.722</td>\n",
              "      <td>462.199</td>\n",
              "      <td>1955.5</td>\n",
              "      <td>29.540</td>\n",
              "      <td>139.6</td>\n",
              "      <td>3.50</td>\n",
              "      <td>5.2</td>\n",
              "      <td>180.007</td>\n",
              "      <td>2.31</td>\n",
              "      <td>1.19</td>\n",
              "    </tr>\n",
              "    <tr>\n",
              "      <th>...</th>\n",
              "      <td>...</td>\n",
              "      <td>...</td>\n",
              "      <td>...</td>\n",
              "      <td>...</td>\n",
              "      <td>...</td>\n",
              "      <td>...</td>\n",
              "      <td>...</td>\n",
              "      <td>...</td>\n",
              "      <td>...</td>\n",
              "      <td>...</td>\n",
              "      <td>...</td>\n",
              "      <td>...</td>\n",
              "      <td>...</td>\n",
              "      <td>...</td>\n",
              "    </tr>\n",
              "    <tr>\n",
              "      <th>198</th>\n",
              "      <td>2008.0</td>\n",
              "      <td>3.0</td>\n",
              "      <td>13324.600</td>\n",
              "      <td>9267.7</td>\n",
              "      <td>1990.693</td>\n",
              "      <td>991.551</td>\n",
              "      <td>9838.3</td>\n",
              "      <td>216.889</td>\n",
              "      <td>1474.7</td>\n",
              "      <td>1.17</td>\n",
              "      <td>6.0</td>\n",
              "      <td>305.270</td>\n",
              "      <td>-3.16</td>\n",
              "      <td>4.33</td>\n",
              "    </tr>\n",
              "    <tr>\n",
              "      <th>199</th>\n",
              "      <td>2008.0</td>\n",
              "      <td>4.0</td>\n",
              "      <td>13141.920</td>\n",
              "      <td>9195.3</td>\n",
              "      <td>1857.661</td>\n",
              "      <td>1007.273</td>\n",
              "      <td>9920.4</td>\n",
              "      <td>212.174</td>\n",
              "      <td>1576.5</td>\n",
              "      <td>0.12</td>\n",
              "      <td>6.9</td>\n",
              "      <td>305.952</td>\n",
              "      <td>-8.79</td>\n",
              "      <td>8.91</td>\n",
              "    </tr>\n",
              "    <tr>\n",
              "      <th>200</th>\n",
              "      <td>2009.0</td>\n",
              "      <td>1.0</td>\n",
              "      <td>12925.410</td>\n",
              "      <td>9209.2</td>\n",
              "      <td>1558.494</td>\n",
              "      <td>996.287</td>\n",
              "      <td>9926.4</td>\n",
              "      <td>212.671</td>\n",
              "      <td>1592.8</td>\n",
              "      <td>0.22</td>\n",
              "      <td>8.1</td>\n",
              "      <td>306.547</td>\n",
              "      <td>0.94</td>\n",
              "      <td>-0.71</td>\n",
              "    </tr>\n",
              "    <tr>\n",
              "      <th>201</th>\n",
              "      <td>2009.0</td>\n",
              "      <td>2.0</td>\n",
              "      <td>12901.504</td>\n",
              "      <td>9189.0</td>\n",
              "      <td>1456.678</td>\n",
              "      <td>1023.528</td>\n",
              "      <td>10077.5</td>\n",
              "      <td>214.469</td>\n",
              "      <td>1653.6</td>\n",
              "      <td>0.18</td>\n",
              "      <td>9.2</td>\n",
              "      <td>307.226</td>\n",
              "      <td>3.37</td>\n",
              "      <td>-3.19</td>\n",
              "    </tr>\n",
              "    <tr>\n",
              "      <th>202</th>\n",
              "      <td>2009.0</td>\n",
              "      <td>3.0</td>\n",
              "      <td>12990.341</td>\n",
              "      <td>9256.0</td>\n",
              "      <td>1486.398</td>\n",
              "      <td>1044.088</td>\n",
              "      <td>10040.6</td>\n",
              "      <td>216.385</td>\n",
              "      <td>1673.9</td>\n",
              "      <td>0.12</td>\n",
              "      <td>9.6</td>\n",
              "      <td>308.013</td>\n",
              "      <td>3.56</td>\n",
              "      <td>-3.44</td>\n",
              "    </tr>\n",
              "  </tbody>\n",
              "</table>\n",
              "<p>203 rows × 14 columns</p>\n",
              "</div>\n",
              "      <button class=\"colab-df-convert\" onclick=\"convertToInteractive('df-4d49fc64-6a1c-4ef3-bfd2-eb30b3bb477f')\"\n",
              "              title=\"Convert this dataframe to an interactive table.\"\n",
              "              style=\"display:none;\">\n",
              "        \n",
              "  <svg xmlns=\"http://www.w3.org/2000/svg\" height=\"24px\"viewBox=\"0 0 24 24\"\n",
              "       width=\"24px\">\n",
              "    <path d=\"M0 0h24v24H0V0z\" fill=\"none\"/>\n",
              "    <path d=\"M18.56 5.44l.94 2.06.94-2.06 2.06-.94-2.06-.94-.94-2.06-.94 2.06-2.06.94zm-11 1L8.5 8.5l.94-2.06 2.06-.94-2.06-.94L8.5 2.5l-.94 2.06-2.06.94zm10 10l.94 2.06.94-2.06 2.06-.94-2.06-.94-.94-2.06-.94 2.06-2.06.94z\"/><path d=\"M17.41 7.96l-1.37-1.37c-.4-.4-.92-.59-1.43-.59-.52 0-1.04.2-1.43.59L10.3 9.45l-7.72 7.72c-.78.78-.78 2.05 0 2.83L4 21.41c.39.39.9.59 1.41.59.51 0 1.02-.2 1.41-.59l7.78-7.78 2.81-2.81c.8-.78.8-2.07 0-2.86zM5.41 20L4 18.59l7.72-7.72 1.47 1.35L5.41 20z\"/>\n",
              "  </svg>\n",
              "      </button>\n",
              "      \n",
              "  <style>\n",
              "    .colab-df-container {\n",
              "      display:flex;\n",
              "      flex-wrap:wrap;\n",
              "      gap: 12px;\n",
              "    }\n",
              "\n",
              "    .colab-df-convert {\n",
              "      background-color: #E8F0FE;\n",
              "      border: none;\n",
              "      border-radius: 50%;\n",
              "      cursor: pointer;\n",
              "      display: none;\n",
              "      fill: #1967D2;\n",
              "      height: 32px;\n",
              "      padding: 0 0 0 0;\n",
              "      width: 32px;\n",
              "    }\n",
              "\n",
              "    .colab-df-convert:hover {\n",
              "      background-color: #E2EBFA;\n",
              "      box-shadow: 0px 1px 2px rgba(60, 64, 67, 0.3), 0px 1px 3px 1px rgba(60, 64, 67, 0.15);\n",
              "      fill: #174EA6;\n",
              "    }\n",
              "\n",
              "    [theme=dark] .colab-df-convert {\n",
              "      background-color: #3B4455;\n",
              "      fill: #D2E3FC;\n",
              "    }\n",
              "\n",
              "    [theme=dark] .colab-df-convert:hover {\n",
              "      background-color: #434B5C;\n",
              "      box-shadow: 0px 1px 3px 1px rgba(0, 0, 0, 0.15);\n",
              "      filter: drop-shadow(0px 1px 2px rgba(0, 0, 0, 0.3));\n",
              "      fill: #FFFFFF;\n",
              "    }\n",
              "  </style>\n",
              "\n",
              "      <script>\n",
              "        const buttonEl =\n",
              "          document.querySelector('#df-4d49fc64-6a1c-4ef3-bfd2-eb30b3bb477f button.colab-df-convert');\n",
              "        buttonEl.style.display =\n",
              "          google.colab.kernel.accessAllowed ? 'block' : 'none';\n",
              "\n",
              "        async function convertToInteractive(key) {\n",
              "          const element = document.querySelector('#df-4d49fc64-6a1c-4ef3-bfd2-eb30b3bb477f');\n",
              "          const dataTable =\n",
              "            await google.colab.kernel.invokeFunction('convertToInteractive',\n",
              "                                                     [key], {});\n",
              "          if (!dataTable) return;\n",
              "\n",
              "          const docLinkHtml = 'Like what you see? Visit the ' +\n",
              "            '<a target=\"_blank\" href=https://colab.research.google.com/notebooks/data_table.ipynb>data table notebook</a>'\n",
              "            + ' to learn more about interactive tables.';\n",
              "          element.innerHTML = '';\n",
              "          dataTable['output_type'] = 'display_data';\n",
              "          await google.colab.output.renderOutput(dataTable, element);\n",
              "          const docLink = document.createElement('div');\n",
              "          docLink.innerHTML = docLinkHtml;\n",
              "          element.appendChild(docLink);\n",
              "        }\n",
              "      </script>\n",
              "    </div>\n",
              "  </div>\n",
              "  "
            ],
            "text/plain": [
              "       year  quarter    realgdp  realcons  ...  unemp      pop  infl  realint\n",
              "0    1959.0      1.0   2710.349    1707.4  ...    5.8  177.146  0.00     0.00\n",
              "1    1959.0      2.0   2778.801    1733.7  ...    5.1  177.830  2.34     0.74\n",
              "2    1959.0      3.0   2775.488    1751.8  ...    5.3  178.657  2.74     1.09\n",
              "3    1959.0      4.0   2785.204    1753.7  ...    5.6  179.386  0.27     4.06\n",
              "4    1960.0      1.0   2847.699    1770.5  ...    5.2  180.007  2.31     1.19\n",
              "..      ...      ...        ...       ...  ...    ...      ...   ...      ...\n",
              "198  2008.0      3.0  13324.600    9267.7  ...    6.0  305.270 -3.16     4.33\n",
              "199  2008.0      4.0  13141.920    9195.3  ...    6.9  305.952 -8.79     8.91\n",
              "200  2009.0      1.0  12925.410    9209.2  ...    8.1  306.547  0.94    -0.71\n",
              "201  2009.0      2.0  12901.504    9189.0  ...    9.2  307.226  3.37    -3.19\n",
              "202  2009.0      3.0  12990.341    9256.0  ...    9.6  308.013  3.56    -3.44\n",
              "\n",
              "[203 rows x 14 columns]"
            ]
          },
          "metadata": {},
          "execution_count": 2
        }
      ],
      "source": [
        "data"
      ]
    },
    {
      "cell_type": "code",
      "execution_count": 3,
      "id": "2bf0d6d9",
      "metadata": {
        "id": "2bf0d6d9"
      },
      "outputs": [],
      "source": [
        "data['year2'] = data['year'].astype(int)\n",
        "data['quarter'] = data['quarter'].astype(int).astype(str)"
      ]
    },
    {
      "cell_type": "code",
      "execution_count": 4,
      "id": "19f01207",
      "metadata": {
        "id": "19f01207"
      },
      "outputs": [],
      "source": [
        "import datetime"
      ]
    },
    {
      "cell_type": "code",
      "execution_count": 5,
      "id": "12f424c6",
      "metadata": {
        "id": "12f424c6"
      },
      "outputs": [],
      "source": [
        "data['quarter2'] = data['quarter'].map('Q{}'.format)"
      ]
    },
    {
      "cell_type": "code",
      "execution_count": 6,
      "id": "ad3b7a37",
      "metadata": {
        "id": "ad3b7a37"
      },
      "outputs": [],
      "source": [
        "data['year2'] = data['year2'].astype(str) + data['quarter2']"
      ]
    },
    {
      "cell_type": "code",
      "execution_count": 7,
      "id": "fd1f9b1f",
      "metadata": {
        "id": "fd1f9b1f"
      },
      "outputs": [],
      "source": [
        "data['year'] = pd.to_datetime(data['year2']).dt.to_period('Q')"
      ]
    },
    {
      "cell_type": "code",
      "execution_count": 8,
      "id": "07399ef7",
      "metadata": {
        "colab": {
          "base_uri": "https://localhost:8080/",
          "height": 423
        },
        "id": "07399ef7",
        "outputId": "6d13659b-e6c8-4851-f0a1-f0a7e3d09377"
      },
      "outputs": [
        {
          "output_type": "execute_result",
          "data": {
            "text/html": [
              "\n",
              "  <div id=\"df-4634872e-d4ae-4d00-96f3-dc335e893276\">\n",
              "    <div class=\"colab-df-container\">\n",
              "      <div>\n",
              "<style scoped>\n",
              "    .dataframe tbody tr th:only-of-type {\n",
              "        vertical-align: middle;\n",
              "    }\n",
              "\n",
              "    .dataframe tbody tr th {\n",
              "        vertical-align: top;\n",
              "    }\n",
              "\n",
              "    .dataframe thead th {\n",
              "        text-align: right;\n",
              "    }\n",
              "</style>\n",
              "<table border=\"1\" class=\"dataframe\">\n",
              "  <thead>\n",
              "    <tr style=\"text-align: right;\">\n",
              "      <th></th>\n",
              "      <th>year</th>\n",
              "      <th>quarter</th>\n",
              "      <th>realgdp</th>\n",
              "      <th>realcons</th>\n",
              "      <th>realinv</th>\n",
              "      <th>realgovt</th>\n",
              "      <th>realdpi</th>\n",
              "      <th>cpi</th>\n",
              "      <th>m1</th>\n",
              "      <th>tbilrate</th>\n",
              "      <th>unemp</th>\n",
              "      <th>pop</th>\n",
              "      <th>infl</th>\n",
              "      <th>realint</th>\n",
              "      <th>year2</th>\n",
              "      <th>quarter2</th>\n",
              "    </tr>\n",
              "  </thead>\n",
              "  <tbody>\n",
              "    <tr>\n",
              "      <th>0</th>\n",
              "      <td>1959Q1</td>\n",
              "      <td>1</td>\n",
              "      <td>2710.349</td>\n",
              "      <td>1707.4</td>\n",
              "      <td>286.898</td>\n",
              "      <td>470.045</td>\n",
              "      <td>1886.9</td>\n",
              "      <td>28.980</td>\n",
              "      <td>139.7</td>\n",
              "      <td>2.82</td>\n",
              "      <td>5.8</td>\n",
              "      <td>177.146</td>\n",
              "      <td>0.00</td>\n",
              "      <td>0.00</td>\n",
              "      <td>1959Q1</td>\n",
              "      <td>Q1</td>\n",
              "    </tr>\n",
              "    <tr>\n",
              "      <th>1</th>\n",
              "      <td>1959Q2</td>\n",
              "      <td>2</td>\n",
              "      <td>2778.801</td>\n",
              "      <td>1733.7</td>\n",
              "      <td>310.859</td>\n",
              "      <td>481.301</td>\n",
              "      <td>1919.7</td>\n",
              "      <td>29.150</td>\n",
              "      <td>141.7</td>\n",
              "      <td>3.08</td>\n",
              "      <td>5.1</td>\n",
              "      <td>177.830</td>\n",
              "      <td>2.34</td>\n",
              "      <td>0.74</td>\n",
              "      <td>1959Q2</td>\n",
              "      <td>Q2</td>\n",
              "    </tr>\n",
              "    <tr>\n",
              "      <th>2</th>\n",
              "      <td>1959Q3</td>\n",
              "      <td>3</td>\n",
              "      <td>2775.488</td>\n",
              "      <td>1751.8</td>\n",
              "      <td>289.226</td>\n",
              "      <td>491.260</td>\n",
              "      <td>1916.4</td>\n",
              "      <td>29.350</td>\n",
              "      <td>140.5</td>\n",
              "      <td>3.82</td>\n",
              "      <td>5.3</td>\n",
              "      <td>178.657</td>\n",
              "      <td>2.74</td>\n",
              "      <td>1.09</td>\n",
              "      <td>1959Q3</td>\n",
              "      <td>Q3</td>\n",
              "    </tr>\n",
              "    <tr>\n",
              "      <th>3</th>\n",
              "      <td>1959Q4</td>\n",
              "      <td>4</td>\n",
              "      <td>2785.204</td>\n",
              "      <td>1753.7</td>\n",
              "      <td>299.356</td>\n",
              "      <td>484.052</td>\n",
              "      <td>1931.3</td>\n",
              "      <td>29.370</td>\n",
              "      <td>140.0</td>\n",
              "      <td>4.33</td>\n",
              "      <td>5.6</td>\n",
              "      <td>179.386</td>\n",
              "      <td>0.27</td>\n",
              "      <td>4.06</td>\n",
              "      <td>1959Q4</td>\n",
              "      <td>Q4</td>\n",
              "    </tr>\n",
              "    <tr>\n",
              "      <th>4</th>\n",
              "      <td>1960Q1</td>\n",
              "      <td>1</td>\n",
              "      <td>2847.699</td>\n",
              "      <td>1770.5</td>\n",
              "      <td>331.722</td>\n",
              "      <td>462.199</td>\n",
              "      <td>1955.5</td>\n",
              "      <td>29.540</td>\n",
              "      <td>139.6</td>\n",
              "      <td>3.50</td>\n",
              "      <td>5.2</td>\n",
              "      <td>180.007</td>\n",
              "      <td>2.31</td>\n",
              "      <td>1.19</td>\n",
              "      <td>1960Q1</td>\n",
              "      <td>Q1</td>\n",
              "    </tr>\n",
              "    <tr>\n",
              "      <th>...</th>\n",
              "      <td>...</td>\n",
              "      <td>...</td>\n",
              "      <td>...</td>\n",
              "      <td>...</td>\n",
              "      <td>...</td>\n",
              "      <td>...</td>\n",
              "      <td>...</td>\n",
              "      <td>...</td>\n",
              "      <td>...</td>\n",
              "      <td>...</td>\n",
              "      <td>...</td>\n",
              "      <td>...</td>\n",
              "      <td>...</td>\n",
              "      <td>...</td>\n",
              "      <td>...</td>\n",
              "      <td>...</td>\n",
              "    </tr>\n",
              "    <tr>\n",
              "      <th>198</th>\n",
              "      <td>2008Q3</td>\n",
              "      <td>3</td>\n",
              "      <td>13324.600</td>\n",
              "      <td>9267.7</td>\n",
              "      <td>1990.693</td>\n",
              "      <td>991.551</td>\n",
              "      <td>9838.3</td>\n",
              "      <td>216.889</td>\n",
              "      <td>1474.7</td>\n",
              "      <td>1.17</td>\n",
              "      <td>6.0</td>\n",
              "      <td>305.270</td>\n",
              "      <td>-3.16</td>\n",
              "      <td>4.33</td>\n",
              "      <td>2008Q3</td>\n",
              "      <td>Q3</td>\n",
              "    </tr>\n",
              "    <tr>\n",
              "      <th>199</th>\n",
              "      <td>2008Q4</td>\n",
              "      <td>4</td>\n",
              "      <td>13141.920</td>\n",
              "      <td>9195.3</td>\n",
              "      <td>1857.661</td>\n",
              "      <td>1007.273</td>\n",
              "      <td>9920.4</td>\n",
              "      <td>212.174</td>\n",
              "      <td>1576.5</td>\n",
              "      <td>0.12</td>\n",
              "      <td>6.9</td>\n",
              "      <td>305.952</td>\n",
              "      <td>-8.79</td>\n",
              "      <td>8.91</td>\n",
              "      <td>2008Q4</td>\n",
              "      <td>Q4</td>\n",
              "    </tr>\n",
              "    <tr>\n",
              "      <th>200</th>\n",
              "      <td>2009Q1</td>\n",
              "      <td>1</td>\n",
              "      <td>12925.410</td>\n",
              "      <td>9209.2</td>\n",
              "      <td>1558.494</td>\n",
              "      <td>996.287</td>\n",
              "      <td>9926.4</td>\n",
              "      <td>212.671</td>\n",
              "      <td>1592.8</td>\n",
              "      <td>0.22</td>\n",
              "      <td>8.1</td>\n",
              "      <td>306.547</td>\n",
              "      <td>0.94</td>\n",
              "      <td>-0.71</td>\n",
              "      <td>2009Q1</td>\n",
              "      <td>Q1</td>\n",
              "    </tr>\n",
              "    <tr>\n",
              "      <th>201</th>\n",
              "      <td>2009Q2</td>\n",
              "      <td>2</td>\n",
              "      <td>12901.504</td>\n",
              "      <td>9189.0</td>\n",
              "      <td>1456.678</td>\n",
              "      <td>1023.528</td>\n",
              "      <td>10077.5</td>\n",
              "      <td>214.469</td>\n",
              "      <td>1653.6</td>\n",
              "      <td>0.18</td>\n",
              "      <td>9.2</td>\n",
              "      <td>307.226</td>\n",
              "      <td>3.37</td>\n",
              "      <td>-3.19</td>\n",
              "      <td>2009Q2</td>\n",
              "      <td>Q2</td>\n",
              "    </tr>\n",
              "    <tr>\n",
              "      <th>202</th>\n",
              "      <td>2009Q3</td>\n",
              "      <td>3</td>\n",
              "      <td>12990.341</td>\n",
              "      <td>9256.0</td>\n",
              "      <td>1486.398</td>\n",
              "      <td>1044.088</td>\n",
              "      <td>10040.6</td>\n",
              "      <td>216.385</td>\n",
              "      <td>1673.9</td>\n",
              "      <td>0.12</td>\n",
              "      <td>9.6</td>\n",
              "      <td>308.013</td>\n",
              "      <td>3.56</td>\n",
              "      <td>-3.44</td>\n",
              "      <td>2009Q3</td>\n",
              "      <td>Q3</td>\n",
              "    </tr>\n",
              "  </tbody>\n",
              "</table>\n",
              "<p>203 rows × 16 columns</p>\n",
              "</div>\n",
              "      <button class=\"colab-df-convert\" onclick=\"convertToInteractive('df-4634872e-d4ae-4d00-96f3-dc335e893276')\"\n",
              "              title=\"Convert this dataframe to an interactive table.\"\n",
              "              style=\"display:none;\">\n",
              "        \n",
              "  <svg xmlns=\"http://www.w3.org/2000/svg\" height=\"24px\"viewBox=\"0 0 24 24\"\n",
              "       width=\"24px\">\n",
              "    <path d=\"M0 0h24v24H0V0z\" fill=\"none\"/>\n",
              "    <path d=\"M18.56 5.44l.94 2.06.94-2.06 2.06-.94-2.06-.94-.94-2.06-.94 2.06-2.06.94zm-11 1L8.5 8.5l.94-2.06 2.06-.94-2.06-.94L8.5 2.5l-.94 2.06-2.06.94zm10 10l.94 2.06.94-2.06 2.06-.94-2.06-.94-.94-2.06-.94 2.06-2.06.94z\"/><path d=\"M17.41 7.96l-1.37-1.37c-.4-.4-.92-.59-1.43-.59-.52 0-1.04.2-1.43.59L10.3 9.45l-7.72 7.72c-.78.78-.78 2.05 0 2.83L4 21.41c.39.39.9.59 1.41.59.51 0 1.02-.2 1.41-.59l7.78-7.78 2.81-2.81c.8-.78.8-2.07 0-2.86zM5.41 20L4 18.59l7.72-7.72 1.47 1.35L5.41 20z\"/>\n",
              "  </svg>\n",
              "      </button>\n",
              "      \n",
              "  <style>\n",
              "    .colab-df-container {\n",
              "      display:flex;\n",
              "      flex-wrap:wrap;\n",
              "      gap: 12px;\n",
              "    }\n",
              "\n",
              "    .colab-df-convert {\n",
              "      background-color: #E8F0FE;\n",
              "      border: none;\n",
              "      border-radius: 50%;\n",
              "      cursor: pointer;\n",
              "      display: none;\n",
              "      fill: #1967D2;\n",
              "      height: 32px;\n",
              "      padding: 0 0 0 0;\n",
              "      width: 32px;\n",
              "    }\n",
              "\n",
              "    .colab-df-convert:hover {\n",
              "      background-color: #E2EBFA;\n",
              "      box-shadow: 0px 1px 2px rgba(60, 64, 67, 0.3), 0px 1px 3px 1px rgba(60, 64, 67, 0.15);\n",
              "      fill: #174EA6;\n",
              "    }\n",
              "\n",
              "    [theme=dark] .colab-df-convert {\n",
              "      background-color: #3B4455;\n",
              "      fill: #D2E3FC;\n",
              "    }\n",
              "\n",
              "    [theme=dark] .colab-df-convert:hover {\n",
              "      background-color: #434B5C;\n",
              "      box-shadow: 0px 1px 3px 1px rgba(0, 0, 0, 0.15);\n",
              "      filter: drop-shadow(0px 1px 2px rgba(0, 0, 0, 0.3));\n",
              "      fill: #FFFFFF;\n",
              "    }\n",
              "  </style>\n",
              "\n",
              "      <script>\n",
              "        const buttonEl =\n",
              "          document.querySelector('#df-4634872e-d4ae-4d00-96f3-dc335e893276 button.colab-df-convert');\n",
              "        buttonEl.style.display =\n",
              "          google.colab.kernel.accessAllowed ? 'block' : 'none';\n",
              "\n",
              "        async function convertToInteractive(key) {\n",
              "          const element = document.querySelector('#df-4634872e-d4ae-4d00-96f3-dc335e893276');\n",
              "          const dataTable =\n",
              "            await google.colab.kernel.invokeFunction('convertToInteractive',\n",
              "                                                     [key], {});\n",
              "          if (!dataTable) return;\n",
              "\n",
              "          const docLinkHtml = 'Like what you see? Visit the ' +\n",
              "            '<a target=\"_blank\" href=https://colab.research.google.com/notebooks/data_table.ipynb>data table notebook</a>'\n",
              "            + ' to learn more about interactive tables.';\n",
              "          element.innerHTML = '';\n",
              "          dataTable['output_type'] = 'display_data';\n",
              "          await google.colab.output.renderOutput(dataTable, element);\n",
              "          const docLink = document.createElement('div');\n",
              "          docLink.innerHTML = docLinkHtml;\n",
              "          element.appendChild(docLink);\n",
              "        }\n",
              "      </script>\n",
              "    </div>\n",
              "  </div>\n",
              "  "
            ],
            "text/plain": [
              "       year quarter    realgdp  realcons  ...  infl  realint   year2  quarter2\n",
              "0    1959Q1       1   2710.349    1707.4  ...  0.00     0.00  1959Q1        Q1\n",
              "1    1959Q2       2   2778.801    1733.7  ...  2.34     0.74  1959Q2        Q2\n",
              "2    1959Q3       3   2775.488    1751.8  ...  2.74     1.09  1959Q3        Q3\n",
              "3    1959Q4       4   2785.204    1753.7  ...  0.27     4.06  1959Q4        Q4\n",
              "4    1960Q1       1   2847.699    1770.5  ...  2.31     1.19  1960Q1        Q1\n",
              "..      ...     ...        ...       ...  ...   ...      ...     ...       ...\n",
              "198  2008Q3       3  13324.600    9267.7  ... -3.16     4.33  2008Q3        Q3\n",
              "199  2008Q4       4  13141.920    9195.3  ... -8.79     8.91  2008Q4        Q4\n",
              "200  2009Q1       1  12925.410    9209.2  ...  0.94    -0.71  2009Q1        Q1\n",
              "201  2009Q2       2  12901.504    9189.0  ...  3.37    -3.19  2009Q2        Q2\n",
              "202  2009Q3       3  12990.341    9256.0  ...  3.56    -3.44  2009Q3        Q3\n",
              "\n",
              "[203 rows x 16 columns]"
            ]
          },
          "metadata": {},
          "execution_count": 8
        }
      ],
      "source": [
        "data"
      ]
    },
    {
      "cell_type": "markdown",
      "id": "9272f56f",
      "metadata": {
        "id": "9272f56f"
      },
      "source": [
        "### Задание 2 [15]"
      ]
    },
    {
      "cell_type": "markdown",
      "id": "9312432e",
      "metadata": {
        "id": "9312432e"
      },
      "source": [
        "Определите порядок интеграции ряда ВВП с помощью формальных тестов. В случае противоречий ADF и KPSS-теста, полагайтесь на KPSS-тест. Постройте наивную модель и посчитайте метрику MAPE"
      ]
    },
    {
      "cell_type": "code",
      "execution_count": 9,
      "id": "a6146e5a",
      "metadata": {
        "id": "a6146e5a"
      },
      "outputs": [],
      "source": [
        "import warnings \n",
        "warnings.filterwarnings('ignore')"
      ]
    },
    {
      "cell_type": "code",
      "source": [
        "data = data.set_index('year')"
      ],
      "metadata": {
        "id": "TBKM9BXQ40hG"
      },
      "id": "TBKM9BXQ40hG",
      "execution_count": 25,
      "outputs": []
    },
    {
      "cell_type": "code",
      "source": [
        "data['realgdp']"
      ],
      "metadata": {
        "colab": {
          "base_uri": "https://localhost:8080/"
        },
        "id": "u47_qg-a5BxL",
        "outputId": "3a87c032-2aeb-4d57-a5e9-1c6e613b8122"
      },
      "id": "u47_qg-a5BxL",
      "execution_count": 26,
      "outputs": [
        {
          "output_type": "execute_result",
          "data": {
            "text/plain": [
              "year\n",
              "1959Q1     2710.349\n",
              "1959Q2     2778.801\n",
              "1959Q3     2775.488\n",
              "1959Q4     2785.204\n",
              "1960Q1     2847.699\n",
              "            ...    \n",
              "2008Q3    13324.600\n",
              "2008Q4    13141.920\n",
              "2009Q1    12925.410\n",
              "2009Q2    12901.504\n",
              "2009Q3    12990.341\n",
              "Freq: Q-DEC, Name: realgdp, Length: 203, dtype: float64"
            ]
          },
          "metadata": {},
          "execution_count": 26
        }
      ]
    },
    {
      "cell_type": "code",
      "execution_count": 27,
      "id": "145d3203",
      "metadata": {
        "id": "145d3203"
      },
      "outputs": [],
      "source": [
        "y = data['realgdp']"
      ]
    },
    {
      "cell_type": "code",
      "execution_count": 11,
      "id": "fcbb4d24",
      "metadata": {
        "colab": {
          "base_uri": "https://localhost:8080/"
        },
        "id": "fcbb4d24",
        "outputId": "bdbf35fe-9fc9-4aa0-972d-5f9f99658f45"
      },
      "outputs": [
        {
          "output_type": "execute_result",
          "data": {
            "text/plain": [
              "(1.7504627967647186,\n",
              " 0.9982455372335032,\n",
              " 12,\n",
              " 190,\n",
              " {'1%': -3.4652439354133255,\n",
              "  '10%': -2.574944653739612,\n",
              "  '5%': -2.8768752281673717},\n",
              " 2034.517123668382)"
            ]
          },
          "metadata": {},
          "execution_count": 11
        }
      ],
      "source": [
        "adfuller(y, regression='c', autolag='AIC') #maxlag = 5"
      ]
    },
    {
      "cell_type": "code",
      "execution_count": 12,
      "id": "794cd0e6",
      "metadata": {
        "colab": {
          "base_uri": "https://localhost:8080/"
        },
        "id": "794cd0e6",
        "outputId": "dfa2cb4a-2059-412e-ef91-f26c43e5f8de"
      },
      "outputs": [
        {
          "output_type": "execute_result",
          "data": {
            "text/plain": [
              "(1.3362157311954894,\n",
              " 0.01,\n",
              " 15,\n",
              " {'1%': 0.739, '10%': 0.347, '2.5%': 0.574, '5%': 0.463})"
            ]
          },
          "metadata": {},
          "execution_count": 12
        }
      ],
      "source": [
        "kpss(y, regression='c')"
      ]
    },
    {
      "cell_type": "code",
      "execution_count": 15,
      "id": "5122aa4e",
      "metadata": {
        "id": "5122aa4e"
      },
      "outputs": [],
      "source": [
        "from sktime.utils.plotting import plot_series"
      ]
    },
    {
      "cell_type": "code",
      "execution_count": 28,
      "id": "4c3fdd8b",
      "metadata": {
        "colab": {
          "base_uri": "https://localhost:8080/",
          "height": 302
        },
        "id": "4c3fdd8b",
        "outputId": "737ef38b-de57-4f0c-e846-e4e97b79bd8b"
      },
      "outputs": [
        {
          "output_type": "execute_result",
          "data": {
            "text/plain": [
              "(<Figure size 1152x288 with 1 Axes>,\n",
              " <matplotlib.axes._subplots.AxesSubplot at 0x7fccf41465d0>)"
            ]
          },
          "metadata": {},
          "execution_count": 28
        },
        {
          "output_type": "display_data",
          "data": {
            "image/png": "[encoded data removed]",
            "text/plain": [
              "<Figure size 1152x288 with 1 Axes>"
            ]
          },
          "metadata": {
            "needs_background": "light"
          }
        }
      ],
      "source": [
        "plot_series(y)"
      ]
    },
    {
      "cell_type": "code",
      "source": [
        "# Разбиение данных на обучение и контроль.\n",
        "\n",
        "from sktime.forecasting.model_selection import temporal_train_test_split\n",
        "\n",
        "y_train, y_test = temporal_train_test_split(y, test_size = 8)\n",
        "plot_series(y_train, y_test, labels=[\"y_train\", \"y_test\"])\n",
        "print(y_train.shape[0], y_test.shape[0])"
      ],
      "metadata": {
        "colab": {
          "base_uri": "https://localhost:8080/",
          "height": 283
        },
        "id": "QV8ccT3q58nA",
        "outputId": "4bb1fd18-d9de-4bfe-836e-5261b3a23523"
      },
      "id": "QV8ccT3q58nA",
      "execution_count": 30,
      "outputs": [
        {
          "output_type": "stream",
          "name": "stdout",
          "text": [
            "195 8\n"
          ]
        },
        {
          "output_type": "display_data",
          "data": {
            "image/png": "[encoded data removed]",
            "text/plain": [
              "<Figure size 1152x288 with 1 Axes>"
            ]
          },
          "metadata": {
            "needs_background": "light"
          }
        }
      ]
    },
    {
      "cell_type": "code",
      "source": [
        "# Чтобы прогнозы корректно индексировались, заведём отдельную переменную с индексами-датами.\n",
        "\n",
        "from sktime.forecasting.base import ForecastingHorizon\n",
        "fh = ForecastingHorizon(y_test.index, is_relative = False)\n",
        "fh"
      ],
      "metadata": {
        "colab": {
          "base_uri": "https://localhost:8080/"
        },
        "id": "OwcgSg8K6HOi",
        "outputId": "dcd3718a-1a20-48d5-b242-cc32ffb7513d"
      },
      "id": "OwcgSg8K6HOi",
      "execution_count": 32,
      "outputs": [
        {
          "output_type": "execute_result",
          "data": {
            "text/plain": [
              "ForecastingHorizon(['2007Q4', '2008Q1', '2008Q2', '2008Q3', '2008Q4', '2009Q1',\n",
              "             '2009Q2', '2009Q3'],\n",
              "            dtype='period[Q-DEC]', freq='Q-DEC', is_relative=False)"
            ]
          },
          "metadata": {},
          "execution_count": 32
        }
      ]
    },
    {
      "cell_type": "code",
      "source": [
        "# Можно построить наивный прогноз с помощью разных стратегий. \n",
        "# Например, как среднее за последние window_length наблюдений.\n",
        "\n",
        "from sktime.forecasting.naive import NaiveForecaster\n",
        "\n",
        "forecaster = NaiveForecaster(strategy=\"mean\", window_length=1)\n",
        "forecaster.fit(y_train)\n",
        "\n",
        "y_pred = forecaster.predict(fh)\n",
        "\n",
        "plot_series(y_train, y_test, y_pred, labels=[\"y_train\", \"y_test\", \"y_pred\"]);"
      ],
      "metadata": {
        "colab": {
          "base_uri": "https://localhost:8080/",
          "height": 265
        },
        "id": "raOhVQWN5wiz",
        "outputId": "1599c4ac-72f7-4ddf-b024-65793dc87b55"
      },
      "id": "raOhVQWN5wiz",
      "execution_count": 70,
      "outputs": [
        {
          "output_type": "display_data",
          "data": {
            "image/png": "[encoded data removed]",
            "text/plain": [
              "<Figure size 1152x288 with 1 Axes>"
            ]
          },
          "metadata": {
            "needs_background": "light"
          }
        }
      ]
    },
    {
      "cell_type": "code",
      "source": [
        "import numpy as np"
      ],
      "metadata": {
        "id": "NFr_uTQU6lDs"
      },
      "id": "NFr_uTQU6lDs",
      "execution_count": 43,
      "outputs": []
    },
    {
      "cell_type": "code",
      "source": [
        "def mape(y_true, y_pred): \n",
        "    return np.mean(np.abs((y_true - y_pred) / y_true)) * 100"
      ],
      "metadata": {
        "id": "S69LdQUU6hmV"
      },
      "id": "S69LdQUU6hmV",
      "execution_count": 41,
      "outputs": []
    },
    {
      "cell_type": "code",
      "source": [
        "mape(y_pred, y_test)"
      ],
      "metadata": {
        "colab": {
          "base_uri": "https://localhost:8080/"
        },
        "id": "ZD0toZJ26c0T",
        "outputId": "e838426d-3bb4-4e16-e873-4bbd9e2d54b8"
      },
      "id": "ZD0toZJ26c0T",
      "execution_count": 71,
      "outputs": [
        {
          "output_type": "execute_result",
          "data": {
            "text/plain": [
              "1.4439535402044965"
            ]
          },
          "metadata": {},
          "execution_count": 71
        }
      ]
    },
    {
      "cell_type": "markdown",
      "id": "58422f99",
      "metadata": {
        "id": "58422f99"
      },
      "source": [
        "### Задание 3 [10]*"
      ]
    },
    {
      "cell_type": "markdown",
      "id": "4dc03d04",
      "metadata": {
        "id": "4dc03d04"
      },
      "source": [
        "Для ряда ВВП подберите оптимальную ARIMA-модель и посчитайте метрику MAPE"
      ]
    },
    {
      "cell_type": "code",
      "execution_count": null,
      "id": "56f2f471",
      "metadata": {
        "id": "56f2f471"
      },
      "outputs": [],
      "source": [
        "! pip install pmdarima"
      ]
    },
    {
      "cell_type": "code",
      "source": [
        "import pmdarima as pm"
      ],
      "metadata": {
        "id": "LtbVia2CCuaN"
      },
      "id": "LtbVia2CCuaN",
      "execution_count": 74,
      "outputs": []
    },
    {
      "cell_type": "code",
      "source": [
        "arima_model_y = pm.auto_arima(\n",
        "    \n",
        "    y_train,\n",
        "    start_p=1, start_q=1,\n",
        "    max_p=5, max_q=5, \n",
        "    \n",
        "    seasonal=True, m = 7,\n",
        "    start_P=0, start_Q=0,\n",
        "    max_P = 2, max_Q = 2,\n",
        "    \n",
        "    max_D=2, max_d=2,\n",
        "    alpha=0.05,\n",
        "    test='kpss',\n",
        "    seasonal_test='ocsb',    \n",
        "    \n",
        "    trace=True,\n",
        "    error_action='ignore',  \n",
        "    suppress_warnings=True, \n",
        "    stepwise=False, \n",
        "    n_fits=100,\n",
        "    information_criterion='bic',\n",
        "    out_of_sample_size=7\n",
        ")"
      ],
      "metadata": {
        "colab": {
          "base_uri": "https://localhost:8080/"
        },
        "id": "IoU4JQ3RCqMh",
        "outputId": "290a02bb-5f48-4f49-9388-6e795882657f"
      },
      "id": "IoU4JQ3RCqMh",
      "execution_count": 75,
      "outputs": [
        {
          "output_type": "stream",
          "name": "stdout",
          "text": [
            " ARIMA(0,2,0)(0,0,0)[7]             : BIC=2149.686, Time=0.10 sec\n",
            " ARIMA(0,2,0)(0,0,1)[7]             : BIC=2154.984, Time=0.40 sec\n",
            " ARIMA(0,2,0)(0,0,2)[7]             : BIC=2160.247, Time=0.66 sec\n",
            " ARIMA(0,2,0)(1,0,0)[7]             : BIC=2154.984, Time=0.24 sec\n",
            " ARIMA(0,2,0)(1,0,1)[7]             : BIC=2160.223, Time=0.74 sec\n",
            " ARIMA(0,2,0)(1,0,2)[7]             : BIC=2165.489, Time=1.54 sec\n",
            " ARIMA(0,2,0)(2,0,0)[7]             : BIC=2160.206, Time=0.27 sec\n",
            " ARIMA(0,2,0)(2,0,1)[7]             : BIC=2165.480, Time=0.59 sec\n",
            " ARIMA(0,2,0)(2,0,2)[7]             : BIC=2169.566, Time=1.93 sec\n",
            " ARIMA(0,2,1)(0,0,0)[7]             : BIC=2079.477, Time=0.07 sec\n",
            " ARIMA(0,2,1)(0,0,1)[7]             : BIC=2081.580, Time=0.23 sec\n",
            " ARIMA(0,2,1)(0,0,2)[7]             : BIC=2085.613, Time=0.60 sec\n",
            " ARIMA(0,2,1)(1,0,0)[7]             : BIC=2082.146, Time=0.21 sec\n",
            " ARIMA(0,2,1)(1,0,1)[7]             : BIC=2086.025, Time=0.38 sec\n",
            " ARIMA(0,2,1)(1,0,2)[7]             : BIC=2090.856, Time=0.79 sec\n",
            " ARIMA(0,2,1)(2,0,0)[7]             : BIC=2085.559, Time=0.41 sec\n",
            " ARIMA(0,2,1)(2,0,1)[7]             : BIC=2090.875, Time=0.78 sec\n",
            " ARIMA(0,2,1)(2,0,2)[7]             : BIC=2096.077, Time=1.23 sec\n",
            " ARIMA(0,2,2)(0,0,0)[7]             : BIC=2080.391, Time=0.17 sec\n",
            " ARIMA(0,2,2)(0,0,1)[7]             : BIC=2084.428, Time=0.43 sec\n",
            " ARIMA(0,2,2)(0,0,2)[7]             : BIC=2088.260, Time=1.04 sec\n",
            " ARIMA(0,2,2)(1,0,0)[7]             : BIC=2084.667, Time=0.73 sec\n",
            " ARIMA(0,2,2)(1,0,1)[7]             : BIC=2088.759, Time=1.41 sec\n",
            " ARIMA(0,2,2)(1,0,2)[7]             : BIC=2093.570, Time=3.41 sec\n",
            " ARIMA(0,2,2)(2,0,0)[7]             : BIC=2088.352, Time=0.89 sec\n",
            " ARIMA(0,2,2)(2,0,1)[7]             : BIC=2093.577, Time=1.14 sec\n",
            " ARIMA(0,2,3)(0,0,0)[7]             : BIC=2076.346, Time=0.24 sec\n",
            " ARIMA(0,2,3)(0,0,1)[7]             : BIC=2081.084, Time=0.64 sec\n",
            " ARIMA(0,2,3)(0,0,2)[7]             : BIC=2085.774, Time=1.33 sec\n",
            " ARIMA(0,2,3)(1,0,0)[7]             : BIC=2081.151, Time=0.49 sec\n",
            " ARIMA(0,2,3)(1,0,1)[7]             : BIC=2086.043, Time=0.91 sec\n",
            " ARIMA(0,2,3)(2,0,0)[7]             : BIC=2085.748, Time=0.85 sec\n",
            " ARIMA(0,2,4)(0,0,0)[7]             : BIC=2081.340, Time=0.39 sec\n",
            " ARIMA(0,2,4)(0,0,1)[7]             : BIC=2085.952, Time=0.79 sec\n",
            " ARIMA(0,2,4)(1,0,0)[7]             : BIC=2086.028, Time=0.53 sec\n",
            " ARIMA(0,2,5)(0,0,0)[7]             : BIC=2084.353, Time=0.46 sec\n",
            " ARIMA(1,2,0)(0,0,0)[7]             : BIC=2100.222, Time=0.05 sec\n",
            " ARIMA(1,2,0)(0,0,1)[7]             : BIC=2104.669, Time=0.19 sec\n",
            " ARIMA(1,2,0)(0,0,2)[7]             : BIC=2109.854, Time=0.37 sec\n",
            " ARIMA(1,2,0)(1,0,0)[7]             : BIC=2104.699, Time=0.10 sec\n",
            " ARIMA(1,2,0)(1,0,1)[7]             : BIC=2109.856, Time=0.26 sec\n",
            " ARIMA(1,2,0)(1,0,2)[7]             : BIC=2115.118, Time=0.57 sec\n",
            " ARIMA(1,2,0)(2,0,0)[7]             : BIC=2109.851, Time=0.24 sec\n",
            " ARIMA(1,2,0)(2,0,1)[7]             : BIC=2115.110, Time=0.53 sec\n",
            " ARIMA(1,2,0)(2,0,2)[7]             : BIC=inf, Time=1.89 sec\n",
            " ARIMA(1,2,1)(0,0,0)[7]             : BIC=2077.220, Time=0.16 sec\n",
            " ARIMA(1,2,1)(0,0,1)[7]             : BIC=2081.825, Time=0.42 sec\n",
            " ARIMA(1,2,1)(0,0,2)[7]             : BIC=2086.213, Time=0.96 sec\n",
            " ARIMA(1,2,1)(1,0,0)[7]             : BIC=2081.922, Time=0.40 sec\n",
            " ARIMA(1,2,1)(1,0,1)[7]             : BIC=2086.528, Time=0.63 sec\n",
            " ARIMA(1,2,1)(1,0,2)[7]             : BIC=2091.500, Time=1.49 sec\n",
            " ARIMA(1,2,1)(2,0,0)[7]             : BIC=2086.270, Time=0.96 sec\n",
            " ARIMA(1,2,1)(2,0,1)[7]             : BIC=2091.486, Time=1.33 sec\n",
            " ARIMA(1,2,2)(0,0,0)[7]             : BIC=2089.518, Time=0.24 sec\n",
            " ARIMA(1,2,2)(0,0,1)[7]             : BIC=2091.877, Time=0.77 sec\n",
            " ARIMA(1,2,2)(0,0,2)[7]             : BIC=2095.998, Time=2.33 sec\n",
            " ARIMA(1,2,2)(1,0,0)[7]             : BIC=2092.405, Time=0.67 sec\n",
            " ARIMA(1,2,2)(1,0,1)[7]             : BIC=2096.415, Time=1.24 sec\n",
            " ARIMA(1,2,2)(2,0,0)[7]             : BIC=2095.899, Time=1.86 sec\n",
            " ARIMA(1,2,3)(0,0,0)[7]             : BIC=2080.922, Time=0.47 sec\n",
            " ARIMA(1,2,3)(0,0,1)[7]             : BIC=2087.389, Time=0.82 sec\n",
            " ARIMA(1,2,3)(1,0,0)[7]             : BIC=2087.482, Time=0.71 sec\n",
            " ARIMA(1,2,4)(0,0,0)[7]             : BIC=2086.638, Time=0.56 sec\n",
            " ARIMA(2,2,0)(0,0,0)[7]             : BIC=2099.882, Time=0.07 sec\n",
            " ARIMA(2,2,0)(0,0,1)[7]             : BIC=2103.535, Time=0.21 sec\n",
            " ARIMA(2,2,0)(0,0,2)[7]             : BIC=2108.585, Time=0.50 sec\n",
            " ARIMA(2,2,0)(1,0,0)[7]             : BIC=2103.664, Time=0.25 sec\n",
            " ARIMA(2,2,0)(1,0,1)[7]             : BIC=2108.613, Time=0.41 sec\n",
            " ARIMA(2,2,0)(1,0,2)[7]             : BIC=2113.838, Time=0.66 sec\n",
            " ARIMA(2,2,0)(2,0,0)[7]             : BIC=2108.608, Time=0.44 sec\n",
            " ARIMA(2,2,0)(2,0,1)[7]             : BIC=2113.844, Time=0.95 sec\n",
            " ARIMA(2,2,1)(0,0,0)[7]             : BIC=2075.001, Time=0.23 sec\n",
            " ARIMA(2,2,1)(0,0,1)[7]             : BIC=2079.533, Time=0.65 sec\n",
            " ARIMA(2,2,1)(0,0,2)[7]             : BIC=2084.415, Time=1.25 sec\n",
            " ARIMA(2,2,1)(1,0,0)[7]             : BIC=2079.606, Time=0.59 sec\n",
            " ARIMA(2,2,1)(1,0,1)[7]             : BIC=2084.570, Time=1.00 sec\n",
            " ARIMA(2,2,1)(2,0,0)[7]             : BIC=2084.396, Time=1.33 sec\n",
            " ARIMA(2,2,2)(0,0,0)[7]             : BIC=2079.736, Time=0.37 sec\n",
            " ARIMA(2,2,2)(0,0,1)[7]             : BIC=2084.527, Time=0.95 sec\n",
            " ARIMA(2,2,2)(1,0,0)[7]             : BIC=2084.576, Time=0.90 sec\n",
            " ARIMA(2,2,3)(0,0,0)[7]             : BIC=inf, Time=0.83 sec\n",
            " ARIMA(3,2,0)(0,0,0)[7]             : BIC=2095.876, Time=0.09 sec\n",
            " ARIMA(3,2,0)(0,0,1)[7]             : BIC=2100.048, Time=0.27 sec\n",
            " ARIMA(3,2,0)(0,0,2)[7]             : BIC=2104.813, Time=0.64 sec\n",
            " ARIMA(3,2,0)(1,0,0)[7]             : BIC=2100.178, Time=0.28 sec\n",
            " ARIMA(3,2,0)(1,0,1)[7]             : BIC=2104.985, Time=0.61 sec\n",
            " ARIMA(3,2,0)(2,0,0)[7]             : BIC=2104.802, Time=0.58 sec\n",
            " ARIMA(3,2,1)(0,0,0)[7]             : BIC=2080.037, Time=0.40 sec\n",
            " ARIMA(3,2,1)(0,0,1)[7]             : BIC=2084.672, Time=0.74 sec\n",
            " ARIMA(3,2,1)(1,0,0)[7]             : BIC=2084.736, Time=0.72 sec\n",
            " ARIMA(3,2,2)(0,0,0)[7]             : BIC=2084.771, Time=0.60 sec\n",
            " ARIMA(4,2,0)(0,0,0)[7]             : BIC=2099.671, Time=0.11 sec\n",
            " ARIMA(4,2,0)(0,0,1)[7]             : BIC=2103.880, Time=0.35 sec\n",
            " ARIMA(4,2,0)(1,0,0)[7]             : BIC=2104.017, Time=0.42 sec\n",
            " ARIMA(4,2,1)(0,0,0)[7]             : BIC=2084.758, Time=0.40 sec\n",
            " ARIMA(5,2,0)(0,0,0)[7]             : BIC=2101.684, Time=0.18 sec\n",
            "\n",
            "Best model:  ARIMA(2,2,1)(0,0,0)[7]          \n",
            "Total fit time: 65.494 seconds\n"
          ]
        }
      ]
    },
    {
      "cell_type": "code",
      "source": [
        "arima_model_y.summary()"
      ],
      "metadata": {
        "colab": {
          "base_uri": "https://localhost:8080/",
          "height": 447
        },
        "id": "i7J5Bcs_CyXN",
        "outputId": "b368c85b-2c01-4c3b-dfd0-3921f54c5480"
      },
      "id": "i7J5Bcs_CyXN",
      "execution_count": 76,
      "outputs": [
        {
          "output_type": "execute_result",
          "data": {
            "text/html": [
              "<table class=\"simpletable\">\n",
              "<caption>Statespace Model Results</caption>\n",
              "<tr>\n",
              "  <th>Dep. Variable:</th>           <td>y</td>        <th>  No. Observations:  </th>    <td>195</td>   \n",
              "</tr>\n",
              "<tr>\n",
              "  <th>Model:</th>           <td>SARIMAX(2, 2, 1)</td> <th>  Log Likelihood     </th> <td>-1026.975</td>\n",
              "</tr>\n",
              "<tr>\n",
              "  <th>Date:</th>            <td>Sun, 26 Dec 2021</td> <th>  AIC                </th> <td>2061.950</td> \n",
              "</tr>\n",
              "<tr>\n",
              "  <th>Time:</th>                <td>14:01:36</td>     <th>  BIC                </th> <td>2075.001</td> \n",
              "</tr>\n",
              "<tr>\n",
              "  <th>Sample:</th>                  <td>0</td>        <th>  HQIC               </th> <td>2067.235</td> \n",
              "</tr>\n",
              "<tr>\n",
              "  <th></th>                      <td> - 195</td>      <th>                     </th>     <td> </td>    \n",
              "</tr>\n",
              "<tr>\n",
              "  <th>Covariance Type:</th>        <td>opg</td>       <th>                     </th>     <td> </td>    \n",
              "</tr>\n",
              "</table>\n",
              "<table class=\"simpletable\">\n",
              "<tr>\n",
              "     <td></td>       <th>coef</th>     <th>std err</th>      <th>z</th>      <th>P>|z|</th>  <th>[0.025</th>    <th>0.975]</th>  \n",
              "</tr>\n",
              "<tr>\n",
              "  <th>ar.L1</th>  <td>    0.2044</td> <td>    0.071</td> <td>    2.888</td> <td> 0.004</td> <td>    0.066</td> <td>    0.343</td>\n",
              "</tr>\n",
              "<tr>\n",
              "  <th>ar.L2</th>  <td>    0.2019</td> <td>    0.061</td> <td>    3.328</td> <td> 0.001</td> <td>    0.083</td> <td>    0.321</td>\n",
              "</tr>\n",
              "<tr>\n",
              "  <th>ma.L1</th>  <td>   -0.9696</td> <td>    0.019</td> <td>  -51.012</td> <td> 0.000</td> <td>   -1.007</td> <td>   -0.932</td>\n",
              "</tr>\n",
              "<tr>\n",
              "  <th>sigma2</th> <td> 2392.3393</td> <td>  193.657</td> <td>   12.353</td> <td> 0.000</td> <td> 2012.778</td> <td> 2771.900</td>\n",
              "</tr>\n",
              "</table>\n",
              "<table class=\"simpletable\">\n",
              "<tr>\n",
              "  <th>Ljung-Box (Q):</th>          <td>36.34</td> <th>  Jarque-Bera (JB):  </th> <td>10.05</td>\n",
              "</tr>\n",
              "<tr>\n",
              "  <th>Prob(Q):</th>                <td>0.64</td>  <th>  Prob(JB):          </th> <td>0.01</td> \n",
              "</tr>\n",
              "<tr>\n",
              "  <th>Heteroskedasticity (H):</th> <td>1.82</td>  <th>  Skew:              </th> <td>0.06</td> \n",
              "</tr>\n",
              "<tr>\n",
              "  <th>Prob(H) (two-sided):</th>    <td>0.02</td>  <th>  Kurtosis:          </th> <td>4.11</td> \n",
              "</tr>\n",
              "</table><br/><br/>Warnings:<br/>[1] Covariance matrix calculated using the outer product of gradients (complex-step)."
            ],
            "text/plain": [
              "<class 'statsmodels.iolib.summary.Summary'>\n",
              "\"\"\"\n",
              "                           Statespace Model Results                           \n",
              "==============================================================================\n",
              "Dep. Variable:                      y   No. Observations:                  195\n",
              "Model:               SARIMAX(2, 2, 1)   Log Likelihood               -1026.975\n",
              "Date:                Sun, 26 Dec 2021   AIC                           2061.950\n",
              "Time:                        14:01:36   BIC                           2075.001\n",
              "Sample:                             0   HQIC                          2067.235\n",
              "                                - 195                                         \n",
              "Covariance Type:                  opg                                         \n",
              "==============================================================================\n",
              "                 coef    std err          z      P>|z|      [0.025      0.975]\n",
              "------------------------------------------------------------------------------\n",
              "ar.L1          0.2044      0.071      2.888      0.004       0.066       0.343\n",
              "ar.L2          0.2019      0.061      3.328      0.001       0.083       0.321\n",
              "ma.L1         -0.9696      0.019    -51.012      0.000      -1.007      -0.932\n",
              "sigma2      2392.3393    193.657     12.353      0.000    2012.778    2771.900\n",
              "===================================================================================\n",
              "Ljung-Box (Q):                       36.34   Jarque-Bera (JB):                10.05\n",
              "Prob(Q):                              0.64   Prob(JB):                         0.01\n",
              "Heteroskedasticity (H):               1.82   Skew:                             0.06\n",
              "Prob(H) (two-sided):                  0.02   Kurtosis:                         4.11\n",
              "===================================================================================\n",
              "\n",
              "Warnings:\n",
              "[1] Covariance matrix calculated using the outer product of gradients (complex-step).\n",
              "\"\"\""
            ]
          },
          "metadata": {},
          "execution_count": 76
        }
      ]
    },
    {
      "cell_type": "code",
      "source": [
        "z_pred, z_pred_ci = arima_model_y.predict(\n",
        "    n_periods=8, \n",
        "    return_conf_int=True, \n",
        "    alpha=0.05\n",
        ")\n",
        "\n",
        "mape(z_pred, y_test)"
      ],
      "metadata": {
        "colab": {
          "base_uri": "https://localhost:8080/"
        },
        "id": "c2H8wlYaDS1M",
        "outputId": "72777a0e-1375-4949-bb1c-a6fe847f6c03"
      },
      "id": "c2H8wlYaDS1M",
      "execution_count": 82,
      "outputs": [
        {
          "output_type": "execute_result",
          "data": {
            "text/plain": [
              "3.7799543570353555"
            ]
          },
          "metadata": {},
          "execution_count": 82
        }
      ]
    },
    {
      "cell_type": "markdown",
      "id": "a694db66",
      "metadata": {
        "id": "a694db66"
      },
      "source": [
        "---\n",
        "---"
      ]
    }
  ],
  "metadata": {
    "hide_input": false,
    "kernelspec": {
      "display_name": "Python 3 (ipykernel)",
      "language": "python",
      "name": "python3"
    },
    "language_info": {
      "codemirror_mode": {
        "name": "ipython",
        "version": 3
      },
      "file_extension": ".py",
      "mimetype": "text/x-python",
      "name": "python",
      "nbconvert_exporter": "python",
      "pygments_lexer": "ipython3",
      "version": "3.9.6"
    },
    "toc": {
      "base_numbering": 1,
      "nav_menu": {},
      "number_sections": true,
      "sideBar": true,
      "skip_h1_title": false,
      "title_cell": "Table of Contents",
      "title_sidebar": "Contents",
      "toc_cell": false,
      "toc_position": {},
      "toc_section_display": true,
      "toc_window_display": false
    },
    "colab": {
      "name": "hw12_14.ipynb",
      "provenance": []
    }
  },
  "nbformat": 4,
  "nbformat_minor": 5
}