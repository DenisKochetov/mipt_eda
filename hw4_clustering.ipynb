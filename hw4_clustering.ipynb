{
 "cells": [
  {
   "cell_type": "markdown",
   "id": "bcdb0fcd",
   "metadata": {},
   "source": [
    "# Домашнее задание 4"
   ]
  },
  {
   "cell_type": "markdown",
   "id": "b5b58f83",
   "metadata": {},
   "source": [
    "__Оценки-баллы__: \n",
    "- 1: 1\n",
    "- 2: 2\n",
    "- 3: 3-4\n",
    "- 4: 5-6\n",
    "- 5: 7-9\n",
    "- 6: 10-12\n",
    "- 7: 13-14\n",
    "- 8: 15-16\n",
    "- 9: 17\n",
    "- 10: 18-30\n",
    "\n",
    "__DL (срок сдачи ДЗ)__: 12.12.2021 23:59. После этого срока работы НЕ будут приниматься\n",
    "\n",
    "__Формат сдачи - в личный аккаунт telegram: @zhuikov_vv__: hw8_9_ivanov_i_i.ipynb"
   ]
  },
  {
   "cell_type": "markdown",
   "id": "7116bc16",
   "metadata": {},
   "source": [
    "### Задание 1 [20]"
   ]
  },
  {
   "cell_type": "markdown",
   "id": "6de73436",
   "metadata": {},
   "source": [
    "Набор данных ```candies.dat``` содержит оценки степени согласия (от 1 до 5 баллов) респондентов с высказываниями, отражающими цель потребления леденцов. Всего каждый респондент выставлял оценки по 11 высказываниям:\n",
    "\n",
    "V1: Я потребляю леденцы, чтобы освежить дыхание  \n",
    "V2: Я потребляю леденцы, чтобы чувствовать себя увереннее  \n",
    "V3: Я потребляю леденцы, чтобы освежить полость рта  \n",
    "V4: Я потребляю леденцы, чтобы избавиться от неприятного вкуса во рту  \n",
    "V5: Я потребляю леденцы как заменитель других кондитерских изделий  \n",
    "V6: Я потребляю леденцы, когда мне хочется чего-нибудь сладкого  \n",
    "V7: Леденцы помогают мне сконцентрироваться  \n",
    "V8: Я потребляю леденцы, чтобы отвлечься на несколько минут и подумать  \n",
    "V9: Я потребляю леденцы для того, чтобы облегчить боль в горле  \n",
    "V10: Я потребляю леденцы для того, чтобы избавиться от заложенности носа  \n",
    "V11: Я потребляю леденцы для улучшения самочувствия  \n",
    "\n",
    "__Задание:__ Определить число кластеров. Подобрать метод классификации, дающий наиболее ясные результаты. Какие леденцы пользуются популярностью у потребителей из каждого сегмента?\n",
    "\n",
    "> __Комментарий:__ Поскольку анализируется большой набор данных, процедура может работать долго.  \n",
    "__Подсказка:__ используйте аргумент ```truncate_mode='lastp'``` при построении дендрограммы"
   ]
  },
  {
   "cell_type": "markdown",
   "id": "230b2f38",
   "metadata": {},
   "source": [
    "### Выбор алгоритма кластеризации зависит от наших данных и цели. \n",
    "#### Данные\n",
    "Сначала я подумал, что данные категориальные и начал использовать метод k-modes, но потом я подумал еще раз и понял, что в данных разница между ответами имеет физический смысл - степень согласия, поэтому можно использовать k-means или иерархический кластеринг. \n",
    "#### Цель\n",
    "Для чего вообще проводят кластерный анализ? Чтобы сделать какие-то выводы об объектах, их общие черты, различия и количество представителей каждой группы. В данной задаче можно представить, что наша задача увеличить продажи леденцов. Для \n",
    "этого мы можем например запустить рекламу. В наше время таргетинг конечно распространен, но данные о том, для чего люди потребляют леденцы наверное получить не очень просто. Имеет смысл относитmся к представленному опросу, как к проверке гипотез о том, каковы главные (наиболее популярные) причины потребления леденцов. Выделив наиболее популярные причины (или их комбинацию), мы сможем сделать на них упор в рекламе и получить внимание наибольшего числа потребителей. "
   ]
  },
  {
   "cell_type": "code",
   "execution_count": 24,
   "id": "9d343f99",
   "metadata": {},
   "outputs": [],
   "source": [
    "import pandas as pd\n",
    "import numpy as np\n",
    "import matplotlib\n",
    "from matplotlib import pyplot as plt\n",
    "matplotlib.style.use('ggplot')\n",
    "%matplotlib inline\n"
   ]
  },
  {
   "cell_type": "code",
   "execution_count": 8,
   "id": "68219263",
   "metadata": {},
   "outputs": [],
   "source": [
    "data = pd.read_csv(\"./candies.dat\",\n",
    "            header=0, sep=';', engine='python')"
   ]
  },
  {
   "cell_type": "code",
   "execution_count": 9,
   "id": "73d15161",
   "metadata": {},
   "outputs": [
    {
     "data": {
      "text/html": [
       "<div>\n",
       "<style scoped>\n",
       "    .dataframe tbody tr th:only-of-type {\n",
       "        vertical-align: middle;\n",
       "    }\n",
       "\n",
       "    .dataframe tbody tr th {\n",
       "        vertical-align: top;\n",
       "    }\n",
       "\n",
       "    .dataframe thead th {\n",
       "        text-align: right;\n",
       "    }\n",
       "</style>\n",
       "<table border=\"1\" class=\"dataframe\">\n",
       "  <thead>\n",
       "    <tr style=\"text-align: right;\">\n",
       "      <th></th>\n",
       "      <th>V1</th>\n",
       "      <th>V2</th>\n",
       "      <th>V3</th>\n",
       "      <th>V4</th>\n",
       "      <th>V5</th>\n",
       "      <th>V6</th>\n",
       "      <th>V7</th>\n",
       "      <th>V8</th>\n",
       "      <th>V9</th>\n",
       "      <th>V10</th>\n",
       "      <th>V11</th>\n",
       "    </tr>\n",
       "  </thead>\n",
       "  <tbody>\n",
       "    <tr>\n",
       "      <th>0</th>\n",
       "      <td>4</td>\n",
       "      <td>5</td>\n",
       "      <td>5</td>\n",
       "      <td>5</td>\n",
       "      <td>3</td>\n",
       "      <td>3</td>\n",
       "      <td>3</td>\n",
       "      <td>3</td>\n",
       "      <td>3</td>\n",
       "      <td>3</td>\n",
       "      <td>3</td>\n",
       "    </tr>\n",
       "    <tr>\n",
       "      <th>1</th>\n",
       "      <td>5</td>\n",
       "      <td>4</td>\n",
       "      <td>5</td>\n",
       "      <td>5</td>\n",
       "      <td>3</td>\n",
       "      <td>3</td>\n",
       "      <td>3</td>\n",
       "      <td>3</td>\n",
       "      <td>3</td>\n",
       "      <td>3</td>\n",
       "      <td>3</td>\n",
       "    </tr>\n",
       "    <tr>\n",
       "      <th>2</th>\n",
       "      <td>5</td>\n",
       "      <td>5</td>\n",
       "      <td>4</td>\n",
       "      <td>5</td>\n",
       "      <td>3</td>\n",
       "      <td>3</td>\n",
       "      <td>3</td>\n",
       "      <td>3</td>\n",
       "      <td>3</td>\n",
       "      <td>3</td>\n",
       "      <td>3</td>\n",
       "    </tr>\n",
       "    <tr>\n",
       "      <th>3</th>\n",
       "      <td>5</td>\n",
       "      <td>4</td>\n",
       "      <td>5</td>\n",
       "      <td>5</td>\n",
       "      <td>3</td>\n",
       "      <td>3</td>\n",
       "      <td>3</td>\n",
       "      <td>3</td>\n",
       "      <td>3</td>\n",
       "      <td>3</td>\n",
       "      <td>3</td>\n",
       "    </tr>\n",
       "    <tr>\n",
       "      <th>4</th>\n",
       "      <td>4</td>\n",
       "      <td>5</td>\n",
       "      <td>5</td>\n",
       "      <td>5</td>\n",
       "      <td>3</td>\n",
       "      <td>3</td>\n",
       "      <td>3</td>\n",
       "      <td>3</td>\n",
       "      <td>3</td>\n",
       "      <td>3</td>\n",
       "      <td>3</td>\n",
       "    </tr>\n",
       "    <tr>\n",
       "      <th>...</th>\n",
       "      <td>...</td>\n",
       "      <td>...</td>\n",
       "      <td>...</td>\n",
       "      <td>...</td>\n",
       "      <td>...</td>\n",
       "      <td>...</td>\n",
       "      <td>...</td>\n",
       "      <td>...</td>\n",
       "      <td>...</td>\n",
       "      <td>...</td>\n",
       "      <td>...</td>\n",
       "    </tr>\n",
       "    <tr>\n",
       "      <th>333</th>\n",
       "      <td>3</td>\n",
       "      <td>3</td>\n",
       "      <td>3</td>\n",
       "      <td>3</td>\n",
       "      <td>3</td>\n",
       "      <td>3</td>\n",
       "      <td>5</td>\n",
       "      <td>5</td>\n",
       "      <td>3</td>\n",
       "      <td>3</td>\n",
       "      <td>3</td>\n",
       "    </tr>\n",
       "    <tr>\n",
       "      <th>334</th>\n",
       "      <td>3</td>\n",
       "      <td>3</td>\n",
       "      <td>3</td>\n",
       "      <td>3</td>\n",
       "      <td>3</td>\n",
       "      <td>3</td>\n",
       "      <td>5</td>\n",
       "      <td>5</td>\n",
       "      <td>3</td>\n",
       "      <td>3</td>\n",
       "      <td>3</td>\n",
       "    </tr>\n",
       "    <tr>\n",
       "      <th>335</th>\n",
       "      <td>3</td>\n",
       "      <td>3</td>\n",
       "      <td>3</td>\n",
       "      <td>3</td>\n",
       "      <td>3</td>\n",
       "      <td>3</td>\n",
       "      <td>5</td>\n",
       "      <td>5</td>\n",
       "      <td>3</td>\n",
       "      <td>3</td>\n",
       "      <td>3</td>\n",
       "    </tr>\n",
       "    <tr>\n",
       "      <th>336</th>\n",
       "      <td>3</td>\n",
       "      <td>3</td>\n",
       "      <td>3</td>\n",
       "      <td>3</td>\n",
       "      <td>3</td>\n",
       "      <td>3</td>\n",
       "      <td>5</td>\n",
       "      <td>5</td>\n",
       "      <td>3</td>\n",
       "      <td>3</td>\n",
       "      <td>3</td>\n",
       "    </tr>\n",
       "    <tr>\n",
       "      <th>337</th>\n",
       "      <td>3</td>\n",
       "      <td>3</td>\n",
       "      <td>3</td>\n",
       "      <td>3</td>\n",
       "      <td>3</td>\n",
       "      <td>3</td>\n",
       "      <td>5</td>\n",
       "      <td>5</td>\n",
       "      <td>3</td>\n",
       "      <td>3</td>\n",
       "      <td>3</td>\n",
       "    </tr>\n",
       "  </tbody>\n",
       "</table>\n",
       "<p>338 rows × 11 columns</p>\n",
       "</div>"
      ],
      "text/plain": [
       "     V1  V2  V3  V4  V5  V6  V7  V8  V9  V10  V11\n",
       "0     4   5   5   5   3   3   3   3   3    3    3\n",
       "1     5   4   5   5   3   3   3   3   3    3    3\n",
       "2     5   5   4   5   3   3   3   3   3    3    3\n",
       "3     5   4   5   5   3   3   3   3   3    3    3\n",
       "4     4   5   5   5   3   3   3   3   3    3    3\n",
       "..   ..  ..  ..  ..  ..  ..  ..  ..  ..  ...  ...\n",
       "333   3   3   3   3   3   3   5   5   3    3    3\n",
       "334   3   3   3   3   3   3   5   5   3    3    3\n",
       "335   3   3   3   3   3   3   5   5   3    3    3\n",
       "336   3   3   3   3   3   3   5   5   3    3    3\n",
       "337   3   3   3   3   3   3   5   5   3    3    3\n",
       "\n",
       "[338 rows x 11 columns]"
      ]
     },
     "execution_count": 9,
     "metadata": {},
     "output_type": "execute_result"
    }
   ],
   "source": [
    "data"
   ]
  },
  {
   "cell_type": "code",
   "execution_count": 25,
   "id": "983ced9b",
   "metadata": {},
   "outputs": [],
   "source": [
    "from scipy.cluster.hierarchy import dendrogram, linkage, fcluster"
   ]
  },
  {
   "cell_type": "code",
   "execution_count": 26,
   "id": "72f8f5c8",
   "metadata": {},
   "outputs": [],
   "source": [
    "link = linkage(data, 'ward', 'euclidean')"
   ]
  },
  {
   "cell_type": "code",
   "execution_count": 30,
   "id": "66161958",
   "metadata": {},
   "outputs": [],
   "source": [
    "plt.rcParams['figure.figsize'] = [20, 10]"
   ]
  },
  {
   "cell_type": "markdown",
   "id": "920418b1",
   "metadata": {},
   "source": [
    "Построим дендрограмму"
   ]
  },
  {
   "cell_type": "code",
   "execution_count": 34,
   "id": "a9f7eb17",
   "metadata": {},
   "outputs": [
    {
     "data": {
      "image/png": "[encoded data removed]",
      "text/plain": [
       "<Figure size 1440x720 with 1 Axes>"
      ]
     },
     "metadata": {
      "needs_background": "light"
     },
     "output_type": "display_data"
    }
   ],
   "source": [
    "dn = dendrogram(link, orientation= \"top\")"
   ]
  },
  {
   "cell_type": "markdown",
   "id": "fa73ad4e",
   "metadata": {},
   "source": [
    "Функция предлагает нам разделение на 3 кластера, визуально я в принципе согласен, но выкинул бы из датасета те данные, которые выбиваются из этих трех больших скоплений (у каждого кластера есть по такому ветвлению с малым числом данных)"
   ]
  },
  {
   "cell_type": "code",
   "execution_count": 41,
   "id": "3c8989f1",
   "metadata": {},
   "outputs": [],
   "source": [
    "data['cluster'] = fcluster(link, 3, criterion='maxclust')"
   ]
  },
  {
   "cell_type": "code",
   "execution_count": 42,
   "id": "271530fc",
   "metadata": {},
   "outputs": [
    {
     "data": {
      "text/plain": [
       "3    120\n",
       "2    110\n",
       "1    108\n",
       "Name: cluster, dtype: int64"
      ]
     },
     "execution_count": 42,
     "metadata": {},
     "output_type": "execute_result"
    }
   ],
   "source": [
    "data['cluster'].value_counts()"
   ]
  },
  {
   "cell_type": "code",
   "execution_count": 44,
   "id": "99605363",
   "metadata": {},
   "outputs": [
    {
     "data": {
      "text/html": [
       "<div>\n",
       "<style scoped>\n",
       "    .dataframe tbody tr th:only-of-type {\n",
       "        vertical-align: middle;\n",
       "    }\n",
       "\n",
       "    .dataframe tbody tr th {\n",
       "        vertical-align: top;\n",
       "    }\n",
       "\n",
       "    .dataframe thead th {\n",
       "        text-align: right;\n",
       "    }\n",
       "</style>\n",
       "<table border=\"1\" class=\"dataframe\">\n",
       "  <thead>\n",
       "    <tr style=\"text-align: right;\">\n",
       "      <th></th>\n",
       "      <th>V1</th>\n",
       "      <th>V2</th>\n",
       "      <th>V3</th>\n",
       "      <th>V4</th>\n",
       "      <th>V5</th>\n",
       "      <th>V6</th>\n",
       "      <th>V7</th>\n",
       "      <th>V8</th>\n",
       "      <th>V9</th>\n",
       "      <th>V10</th>\n",
       "      <th>V11</th>\n",
       "    </tr>\n",
       "    <tr>\n",
       "      <th>cluster</th>\n",
       "      <th></th>\n",
       "      <th></th>\n",
       "      <th></th>\n",
       "      <th></th>\n",
       "      <th></th>\n",
       "      <th></th>\n",
       "      <th></th>\n",
       "      <th></th>\n",
       "      <th></th>\n",
       "      <th></th>\n",
       "      <th></th>\n",
       "    </tr>\n",
       "  </thead>\n",
       "  <tbody>\n",
       "    <tr>\n",
       "      <th>1</th>\n",
       "      <td>2.824074</td>\n",
       "      <td>2.833333</td>\n",
       "      <td>2.768519</td>\n",
       "      <td>2.620370</td>\n",
       "      <td>2.611111</td>\n",
       "      <td>2.583333</td>\n",
       "      <td>2.750000</td>\n",
       "      <td>2.916667</td>\n",
       "      <td>4.953704</td>\n",
       "      <td>4.814815</td>\n",
       "      <td>4.861111</td>\n",
       "    </tr>\n",
       "    <tr>\n",
       "      <th>2</th>\n",
       "      <td>4.845455</td>\n",
       "      <td>4.800000</td>\n",
       "      <td>4.836364</td>\n",
       "      <td>4.681818</td>\n",
       "      <td>3.036364</td>\n",
       "      <td>3.036364</td>\n",
       "      <td>3.000000</td>\n",
       "      <td>2.990909</td>\n",
       "      <td>3.072727</td>\n",
       "      <td>3.045455</td>\n",
       "      <td>3.045455</td>\n",
       "    </tr>\n",
       "    <tr>\n",
       "      <th>3</th>\n",
       "      <td>3.000000</td>\n",
       "      <td>2.983333</td>\n",
       "      <td>2.983333</td>\n",
       "      <td>2.958333</td>\n",
       "      <td>3.900000</td>\n",
       "      <td>3.916667</td>\n",
       "      <td>3.941667</td>\n",
       "      <td>3.900000</td>\n",
       "      <td>2.875000</td>\n",
       "      <td>2.875000</td>\n",
       "      <td>2.875000</td>\n",
       "    </tr>\n",
       "  </tbody>\n",
       "</table>\n",
       "</div>"
      ],
      "text/plain": [
       "               V1        V2        V3        V4        V5        V6        V7  \\\n",
       "cluster                                                                         \n",
       "1        2.824074  2.833333  2.768519  2.620370  2.611111  2.583333  2.750000   \n",
       "2        4.845455  4.800000  4.836364  4.681818  3.036364  3.036364  3.000000   \n",
       "3        3.000000  2.983333  2.983333  2.958333  3.900000  3.916667  3.941667   \n",
       "\n",
       "               V8        V9       V10       V11  \n",
       "cluster                                          \n",
       "1        2.916667  4.953704  4.814815  4.861111  \n",
       "2        2.990909  3.072727  3.045455  3.045455  \n",
       "3        3.900000  2.875000  2.875000  2.875000  "
      ]
     },
     "execution_count": 44,
     "metadata": {},
     "output_type": "execute_result"
    }
   ],
   "source": [
    "data.groupby('cluster').mean()"
   ]
  },
  {
   "cell_type": "markdown",
   "id": "74f443a5",
   "metadata": {},
   "source": [
    "### Интерпретация результатов:\n",
    "- Кластер 1:\n",
    "\n",
    "    V9, V10, V11 - больные (леденцы как лекарство)\n",
    "    \n",
    "- Кластер 2:\n",
    "\n",
    "    V1, V2, V3 - говоруны/целовальщики (леденцы для свежего дыхания)\n",
    "    \n",
    "- Кластер 3:\n",
    "\n",
    "    V5, V6, V7, V7 - сладкоежки + мудрецы (леденцы как сладость + способ концентрации)\n",
    "\n",
    "P.S. в лекции советовали давать забавные названия, чтобы они легко запоминались\n",
    "\n"
   ]
  },
  {
   "cell_type": "markdown",
   "id": "f8e43a1d",
   "metadata": {},
   "source": [
    "Третий кластер так и просится на разделение на сладкоежек и мудрецов"
   ]
  },
  {
   "cell_type": "code",
   "execution_count": 45,
   "id": "e75248f1",
   "metadata": {},
   "outputs": [
    {
     "data": {
      "text/html": [
       "<div>\n",
       "<style scoped>\n",
       "    .dataframe tbody tr th:only-of-type {\n",
       "        vertical-align: middle;\n",
       "    }\n",
       "\n",
       "    .dataframe tbody tr th {\n",
       "        vertical-align: top;\n",
       "    }\n",
       "\n",
       "    .dataframe thead th {\n",
       "        text-align: right;\n",
       "    }\n",
       "</style>\n",
       "<table border=\"1\" class=\"dataframe\">\n",
       "  <thead>\n",
       "    <tr style=\"text-align: right;\">\n",
       "      <th></th>\n",
       "      <th>V1</th>\n",
       "      <th>V2</th>\n",
       "      <th>V3</th>\n",
       "      <th>V4</th>\n",
       "      <th>V5</th>\n",
       "      <th>V6</th>\n",
       "      <th>V7</th>\n",
       "      <th>V8</th>\n",
       "      <th>V9</th>\n",
       "      <th>V10</th>\n",
       "      <th>V11</th>\n",
       "      <th>cluster</th>\n",
       "    </tr>\n",
       "  </thead>\n",
       "  <tbody>\n",
       "    <tr>\n",
       "      <th>218</th>\n",
       "      <td>3</td>\n",
       "      <td>3</td>\n",
       "      <td>3</td>\n",
       "      <td>3</td>\n",
       "      <td>5</td>\n",
       "      <td>5</td>\n",
       "      <td>3</td>\n",
       "      <td>3</td>\n",
       "      <td>3</td>\n",
       "      <td>3</td>\n",
       "      <td>3</td>\n",
       "      <td>3</td>\n",
       "    </tr>\n",
       "    <tr>\n",
       "      <th>219</th>\n",
       "      <td>3</td>\n",
       "      <td>3</td>\n",
       "      <td>3</td>\n",
       "      <td>3</td>\n",
       "      <td>5</td>\n",
       "      <td>5</td>\n",
       "      <td>3</td>\n",
       "      <td>3</td>\n",
       "      <td>2</td>\n",
       "      <td>2</td>\n",
       "      <td>2</td>\n",
       "      <td>3</td>\n",
       "    </tr>\n",
       "    <tr>\n",
       "      <th>220</th>\n",
       "      <td>3</td>\n",
       "      <td>3</td>\n",
       "      <td>3</td>\n",
       "      <td>3</td>\n",
       "      <td>5</td>\n",
       "      <td>5</td>\n",
       "      <td>3</td>\n",
       "      <td>2</td>\n",
       "      <td>2</td>\n",
       "      <td>2</td>\n",
       "      <td>2</td>\n",
       "      <td>3</td>\n",
       "    </tr>\n",
       "    <tr>\n",
       "      <th>221</th>\n",
       "      <td>3</td>\n",
       "      <td>3</td>\n",
       "      <td>3</td>\n",
       "      <td>3</td>\n",
       "      <td>5</td>\n",
       "      <td>5</td>\n",
       "      <td>3</td>\n",
       "      <td>3</td>\n",
       "      <td>2</td>\n",
       "      <td>2</td>\n",
       "      <td>2</td>\n",
       "      <td>3</td>\n",
       "    </tr>\n",
       "    <tr>\n",
       "      <th>222</th>\n",
       "      <td>3</td>\n",
       "      <td>3</td>\n",
       "      <td>3</td>\n",
       "      <td>3</td>\n",
       "      <td>5</td>\n",
       "      <td>5</td>\n",
       "      <td>3</td>\n",
       "      <td>2</td>\n",
       "      <td>2</td>\n",
       "      <td>2</td>\n",
       "      <td>2</td>\n",
       "      <td>3</td>\n",
       "    </tr>\n",
       "    <tr>\n",
       "      <th>...</th>\n",
       "      <td>...</td>\n",
       "      <td>...</td>\n",
       "      <td>...</td>\n",
       "      <td>...</td>\n",
       "      <td>...</td>\n",
       "      <td>...</td>\n",
       "      <td>...</td>\n",
       "      <td>...</td>\n",
       "      <td>...</td>\n",
       "      <td>...</td>\n",
       "      <td>...</td>\n",
       "      <td>...</td>\n",
       "    </tr>\n",
       "    <tr>\n",
       "      <th>333</th>\n",
       "      <td>3</td>\n",
       "      <td>3</td>\n",
       "      <td>3</td>\n",
       "      <td>3</td>\n",
       "      <td>3</td>\n",
       "      <td>3</td>\n",
       "      <td>5</td>\n",
       "      <td>5</td>\n",
       "      <td>3</td>\n",
       "      <td>3</td>\n",
       "      <td>3</td>\n",
       "      <td>3</td>\n",
       "    </tr>\n",
       "    <tr>\n",
       "      <th>334</th>\n",
       "      <td>3</td>\n",
       "      <td>3</td>\n",
       "      <td>3</td>\n",
       "      <td>3</td>\n",
       "      <td>3</td>\n",
       "      <td>3</td>\n",
       "      <td>5</td>\n",
       "      <td>5</td>\n",
       "      <td>3</td>\n",
       "      <td>3</td>\n",
       "      <td>3</td>\n",
       "      <td>3</td>\n",
       "    </tr>\n",
       "    <tr>\n",
       "      <th>335</th>\n",
       "      <td>3</td>\n",
       "      <td>3</td>\n",
       "      <td>3</td>\n",
       "      <td>3</td>\n",
       "      <td>3</td>\n",
       "      <td>3</td>\n",
       "      <td>5</td>\n",
       "      <td>5</td>\n",
       "      <td>3</td>\n",
       "      <td>3</td>\n",
       "      <td>3</td>\n",
       "      <td>3</td>\n",
       "    </tr>\n",
       "    <tr>\n",
       "      <th>336</th>\n",
       "      <td>3</td>\n",
       "      <td>3</td>\n",
       "      <td>3</td>\n",
       "      <td>3</td>\n",
       "      <td>3</td>\n",
       "      <td>3</td>\n",
       "      <td>5</td>\n",
       "      <td>5</td>\n",
       "      <td>3</td>\n",
       "      <td>3</td>\n",
       "      <td>3</td>\n",
       "      <td>3</td>\n",
       "    </tr>\n",
       "    <tr>\n",
       "      <th>337</th>\n",
       "      <td>3</td>\n",
       "      <td>3</td>\n",
       "      <td>3</td>\n",
       "      <td>3</td>\n",
       "      <td>3</td>\n",
       "      <td>3</td>\n",
       "      <td>5</td>\n",
       "      <td>5</td>\n",
       "      <td>3</td>\n",
       "      <td>3</td>\n",
       "      <td>3</td>\n",
       "      <td>3</td>\n",
       "    </tr>\n",
       "  </tbody>\n",
       "</table>\n",
       "<p>120 rows × 12 columns</p>\n",
       "</div>"
      ],
      "text/plain": [
       "     V1  V2  V3  V4  V5  V6  V7  V8  V9  V10  V11  cluster\n",
       "218   3   3   3   3   5   5   3   3   3    3    3        3\n",
       "219   3   3   3   3   5   5   3   3   2    2    2        3\n",
       "220   3   3   3   3   5   5   3   2   2    2    2        3\n",
       "221   3   3   3   3   5   5   3   3   2    2    2        3\n",
       "222   3   3   3   3   5   5   3   2   2    2    2        3\n",
       "..   ..  ..  ..  ..  ..  ..  ..  ..  ..  ...  ...      ...\n",
       "333   3   3   3   3   3   3   5   5   3    3    3        3\n",
       "334   3   3   3   3   3   3   5   5   3    3    3        3\n",
       "335   3   3   3   3   3   3   5   5   3    3    3        3\n",
       "336   3   3   3   3   3   3   5   5   3    3    3        3\n",
       "337   3   3   3   3   3   3   5   5   3    3    3        3\n",
       "\n",
       "[120 rows x 12 columns]"
      ]
     },
     "execution_count": 45,
     "metadata": {},
     "output_type": "execute_result"
    }
   ],
   "source": [
    "data[data.cluster == 3]"
   ]
  },
  {
   "cell_type": "markdown",
   "id": "b84f5f3e",
   "metadata": {},
   "source": [
    "Даже по head+tail можно заметить это деление"
   ]
  },
  {
   "cell_type": "code",
   "execution_count": 46,
   "id": "0e80be5e",
   "metadata": {},
   "outputs": [],
   "source": [
    "data['cluster'] = fcluster(link, 4, criterion='maxclust')"
   ]
  },
  {
   "cell_type": "code",
   "execution_count": 47,
   "id": "e4bbc769",
   "metadata": {},
   "outputs": [
    {
     "data": {
      "text/plain": [
       "2    110\n",
       "1    108\n",
       "4     61\n",
       "3     59\n",
       "Name: cluster, dtype: int64"
      ]
     },
     "execution_count": 47,
     "metadata": {},
     "output_type": "execute_result"
    }
   ],
   "source": [
    "data['cluster'].value_counts()"
   ]
  },
  {
   "cell_type": "code",
   "execution_count": 48,
   "id": "ea80e4b6",
   "metadata": {},
   "outputs": [
    {
     "data": {
      "text/html": [
       "<div>\n",
       "<style scoped>\n",
       "    .dataframe tbody tr th:only-of-type {\n",
       "        vertical-align: middle;\n",
       "    }\n",
       "\n",
       "    .dataframe tbody tr th {\n",
       "        vertical-align: top;\n",
       "    }\n",
       "\n",
       "    .dataframe thead th {\n",
       "        text-align: right;\n",
       "    }\n",
       "</style>\n",
       "<table border=\"1\" class=\"dataframe\">\n",
       "  <thead>\n",
       "    <tr style=\"text-align: right;\">\n",
       "      <th></th>\n",
       "      <th>V1</th>\n",
       "      <th>V2</th>\n",
       "      <th>V3</th>\n",
       "      <th>V4</th>\n",
       "      <th>V5</th>\n",
       "      <th>V6</th>\n",
       "      <th>V7</th>\n",
       "      <th>V8</th>\n",
       "      <th>V9</th>\n",
       "      <th>V10</th>\n",
       "      <th>V11</th>\n",
       "    </tr>\n",
       "    <tr>\n",
       "      <th>cluster</th>\n",
       "      <th></th>\n",
       "      <th></th>\n",
       "      <th></th>\n",
       "      <th></th>\n",
       "      <th></th>\n",
       "      <th></th>\n",
       "      <th></th>\n",
       "      <th></th>\n",
       "      <th></th>\n",
       "      <th></th>\n",
       "      <th></th>\n",
       "    </tr>\n",
       "  </thead>\n",
       "  <tbody>\n",
       "    <tr>\n",
       "      <th>1</th>\n",
       "      <td>2.824074</td>\n",
       "      <td>2.833333</td>\n",
       "      <td>2.768519</td>\n",
       "      <td>2.620370</td>\n",
       "      <td>2.611111</td>\n",
       "      <td>2.583333</td>\n",
       "      <td>2.750000</td>\n",
       "      <td>2.916667</td>\n",
       "      <td>4.953704</td>\n",
       "      <td>4.814815</td>\n",
       "      <td>4.861111</td>\n",
       "    </tr>\n",
       "    <tr>\n",
       "      <th>2</th>\n",
       "      <td>4.845455</td>\n",
       "      <td>4.800000</td>\n",
       "      <td>4.836364</td>\n",
       "      <td>4.681818</td>\n",
       "      <td>3.036364</td>\n",
       "      <td>3.036364</td>\n",
       "      <td>3.000000</td>\n",
       "      <td>2.990909</td>\n",
       "      <td>3.072727</td>\n",
       "      <td>3.045455</td>\n",
       "      <td>3.045455</td>\n",
       "    </tr>\n",
       "    <tr>\n",
       "      <th>3</th>\n",
       "      <td>3.000000</td>\n",
       "      <td>2.966102</td>\n",
       "      <td>2.966102</td>\n",
       "      <td>2.915254</td>\n",
       "      <td>2.915254</td>\n",
       "      <td>2.949153</td>\n",
       "      <td>4.915254</td>\n",
       "      <td>4.915254</td>\n",
       "      <td>3.000000</td>\n",
       "      <td>3.000000</td>\n",
       "      <td>3.000000</td>\n",
       "    </tr>\n",
       "    <tr>\n",
       "      <th>4</th>\n",
       "      <td>3.000000</td>\n",
       "      <td>3.000000</td>\n",
       "      <td>3.000000</td>\n",
       "      <td>3.000000</td>\n",
       "      <td>4.852459</td>\n",
       "      <td>4.852459</td>\n",
       "      <td>3.000000</td>\n",
       "      <td>2.918033</td>\n",
       "      <td>2.754098</td>\n",
       "      <td>2.754098</td>\n",
       "      <td>2.754098</td>\n",
       "    </tr>\n",
       "  </tbody>\n",
       "</table>\n",
       "</div>"
      ],
      "text/plain": [
       "               V1        V2        V3        V4        V5        V6        V7  \\\n",
       "cluster                                                                         \n",
       "1        2.824074  2.833333  2.768519  2.620370  2.611111  2.583333  2.750000   \n",
       "2        4.845455  4.800000  4.836364  4.681818  3.036364  3.036364  3.000000   \n",
       "3        3.000000  2.966102  2.966102  2.915254  2.915254  2.949153  4.915254   \n",
       "4        3.000000  3.000000  3.000000  3.000000  4.852459  4.852459  3.000000   \n",
       "\n",
       "               V8        V9       V10       V11  \n",
       "cluster                                          \n",
       "1        2.916667  4.953704  4.814815  4.861111  \n",
       "2        2.990909  3.072727  3.045455  3.045455  \n",
       "3        4.915254  3.000000  3.000000  3.000000  \n",
       "4        2.918033  2.754098  2.754098  2.754098  "
      ]
     },
     "execution_count": 48,
     "metadata": {},
     "output_type": "execute_result"
    }
   ],
   "source": [
    "data.groupby('cluster').mean()"
   ]
  },
  {
   "cell_type": "markdown",
   "id": "c39df560",
   "metadata": {},
   "source": [
    "Судя по value_counts, третий кластер разделился на два, как мы и хотели.\n",
    "Итоговые кластеры: \n",
    "- Кластер 1:\n",
    "V9, V10, V11 - больные (леденцы как лекарство)\n",
    "- Кластер 2:\n",
    "V1, V2, V3 - говоруны/целовальщики (леденцы для свежего дыхания)\n",
    "- Кластер 3:\n",
    "V7, V8 - мудрецы (леденцы как способ концентрации)\n",
    "- Кластер 4:\n",
    "V5, V6 - сладкоежки (леденцы как сладость)"
   ]
  },
  {
   "cell_type": "markdown",
   "id": "469abe02",
   "metadata": {},
   "source": [
    "### Вывод: \n",
    "Самые многочисленные (и примерно равные по размеру) кластеры: больные и говоруны. Почти в два раза меньше по объему кластеры мудрецы и сладкоежки. \n",
    "\n",
    "Интересно, что придумали бы рекламщики - комбинировать в одну рекламу и акцент на болезнях, и на свежем дыхании, или делать две отдельные рекламы. Еще бы не забыть про два меньших кластера. \n",
    "\n",
    "На кластеры в принципе можно настроить таргетинг, 1 - самый простой, больное горло/нос (гуглит соответствующие симптомы);\n",
    "2 - гуглит что-нибудь про свежесть дыхания; 3 - мне кажется могло бы подойти для бросающих курить (без а/б теста о степени уверенности сказать не могу); 4 - сладкоежки, думаю в гугл профиле есть такая пометка. "
   ]
  },
  {
   "cell_type": "markdown",
   "id": "e263006b",
   "metadata": {},
   "source": [
    "### K-MEANS"
   ]
  },
  {
   "cell_type": "markdown",
   "id": "39574426",
   "metadata": {},
   "source": [
    "Посмотрим, такое же ли число кластеров получится у K-MEANS. Число кластеров проверим методом локтя и distortion score. "
   ]
  },
  {
   "cell_type": "code",
   "execution_count": 52,
   "id": "bb383e5d",
   "metadata": {},
   "outputs": [],
   "source": [
    "from sklearn.cluster import KMeans"
   ]
  },
  {
   "cell_type": "code",
   "execution_count": 54,
   "id": "236f8b19",
   "metadata": {},
   "outputs": [],
   "source": [
    "df = data.drop(\"cluster\", axis=1)"
   ]
  },
  {
   "cell_type": "code",
   "execution_count": 69,
   "id": "4ad87e44",
   "metadata": {},
   "outputs": [
    {
     "data": {
      "image/png": "[encoded data removed]",
      "text/plain": [
       "<Figure size 576x396 with 2 Axes>"
      ]
     },
     "metadata": {},
     "output_type": "display_data"
    },
    {
     "data": {
      "text/plain": [
       "<AxesSubplot:title={'center':'Distortion Score Elbow for KMeans Clustering'}, xlabel='k', ylabel='distortion score'>"
      ]
     },
     "execution_count": 69,
     "metadata": {},
     "output_type": "execute_result"
    }
   ],
   "source": [
    "from yellowbrick.cluster import KElbowVisualizer\n",
    "model = KElbowVisualizer(KMeans(), k=11)\n",
    "model.fit(df)\n",
    "model.show()"
   ]
  },
  {
   "cell_type": "code",
   "execution_count": 70,
   "id": "c575b2f3",
   "metadata": {},
   "outputs": [],
   "source": [
    "model = KMeans(n_clusters=4, random_state=42)"
   ]
  },
  {
   "cell_type": "code",
   "execution_count": 71,
   "id": "b824c628",
   "metadata": {},
   "outputs": [
    {
     "data": {
      "text/plain": [
       "KMeans(n_clusters=4, random_state=42)"
      ]
     },
     "execution_count": 71,
     "metadata": {},
     "output_type": "execute_result"
    }
   ],
   "source": [
    "model.fit(df)"
   ]
  },
  {
   "cell_type": "code",
   "execution_count": 73,
   "id": "254fad7d",
   "metadata": {},
   "outputs": [],
   "source": [
    "df['cluster'] = model.labels_"
   ]
  },
  {
   "cell_type": "code",
   "execution_count": 74,
   "id": "45a82e45",
   "metadata": {},
   "outputs": [
    {
     "data": {
      "text/html": [
       "<div>\n",
       "<style scoped>\n",
       "    .dataframe tbody tr th:only-of-type {\n",
       "        vertical-align: middle;\n",
       "    }\n",
       "\n",
       "    .dataframe tbody tr th {\n",
       "        vertical-align: top;\n",
       "    }\n",
       "\n",
       "    .dataframe thead th {\n",
       "        text-align: right;\n",
       "    }\n",
       "</style>\n",
       "<table border=\"1\" class=\"dataframe\">\n",
       "  <thead>\n",
       "    <tr style=\"text-align: right;\">\n",
       "      <th></th>\n",
       "      <th>V1</th>\n",
       "      <th>V2</th>\n",
       "      <th>V3</th>\n",
       "      <th>V4</th>\n",
       "      <th>V5</th>\n",
       "      <th>V6</th>\n",
       "      <th>V7</th>\n",
       "      <th>V8</th>\n",
       "      <th>V9</th>\n",
       "      <th>V10</th>\n",
       "      <th>V11</th>\n",
       "    </tr>\n",
       "    <tr>\n",
       "      <th>cluster</th>\n",
       "      <th></th>\n",
       "      <th></th>\n",
       "      <th></th>\n",
       "      <th></th>\n",
       "      <th></th>\n",
       "      <th></th>\n",
       "      <th></th>\n",
       "      <th></th>\n",
       "      <th></th>\n",
       "      <th></th>\n",
       "      <th></th>\n",
       "    </tr>\n",
       "  </thead>\n",
       "  <tbody>\n",
       "    <tr>\n",
       "      <th>0</th>\n",
       "      <td>4.845455</td>\n",
       "      <td>4.800000</td>\n",
       "      <td>4.836364</td>\n",
       "      <td>4.681818</td>\n",
       "      <td>3.036364</td>\n",
       "      <td>3.036364</td>\n",
       "      <td>3.000000</td>\n",
       "      <td>2.990909</td>\n",
       "      <td>3.072727</td>\n",
       "      <td>3.045455</td>\n",
       "      <td>3.045455</td>\n",
       "    </tr>\n",
       "    <tr>\n",
       "      <th>1</th>\n",
       "      <td>2.824074</td>\n",
       "      <td>2.833333</td>\n",
       "      <td>2.768519</td>\n",
       "      <td>2.620370</td>\n",
       "      <td>2.611111</td>\n",
       "      <td>2.583333</td>\n",
       "      <td>2.750000</td>\n",
       "      <td>2.916667</td>\n",
       "      <td>4.953704</td>\n",
       "      <td>4.814815</td>\n",
       "      <td>4.861111</td>\n",
       "    </tr>\n",
       "    <tr>\n",
       "      <th>2</th>\n",
       "      <td>3.000000</td>\n",
       "      <td>2.966102</td>\n",
       "      <td>2.966102</td>\n",
       "      <td>2.915254</td>\n",
       "      <td>2.915254</td>\n",
       "      <td>2.949153</td>\n",
       "      <td>4.915254</td>\n",
       "      <td>4.915254</td>\n",
       "      <td>3.000000</td>\n",
       "      <td>3.000000</td>\n",
       "      <td>3.000000</td>\n",
       "    </tr>\n",
       "    <tr>\n",
       "      <th>3</th>\n",
       "      <td>3.000000</td>\n",
       "      <td>3.000000</td>\n",
       "      <td>3.000000</td>\n",
       "      <td>3.000000</td>\n",
       "      <td>4.852459</td>\n",
       "      <td>4.852459</td>\n",
       "      <td>3.000000</td>\n",
       "      <td>2.918033</td>\n",
       "      <td>2.754098</td>\n",
       "      <td>2.754098</td>\n",
       "      <td>2.754098</td>\n",
       "    </tr>\n",
       "  </tbody>\n",
       "</table>\n",
       "</div>"
      ],
      "text/plain": [
       "               V1        V2        V3        V4        V5        V6        V7  \\\n",
       "cluster                                                                         \n",
       "0        4.845455  4.800000  4.836364  4.681818  3.036364  3.036364  3.000000   \n",
       "1        2.824074  2.833333  2.768519  2.620370  2.611111  2.583333  2.750000   \n",
       "2        3.000000  2.966102  2.966102  2.915254  2.915254  2.949153  4.915254   \n",
       "3        3.000000  3.000000  3.000000  3.000000  4.852459  4.852459  3.000000   \n",
       "\n",
       "               V8        V9       V10       V11  \n",
       "cluster                                          \n",
       "0        2.990909  3.072727  3.045455  3.045455  \n",
       "1        2.916667  4.953704  4.814815  4.861111  \n",
       "2        4.915254  3.000000  3.000000  3.000000  \n",
       "3        2.918033  2.754098  2.754098  2.754098  "
      ]
     },
     "execution_count": 74,
     "metadata": {},
     "output_type": "execute_result"
    }
   ],
   "source": [
    "df.groupby('cluster').mean()"
   ]
  },
  {
   "cell_type": "markdown",
   "id": "bcf8e22c",
   "metadata": {},
   "source": [
    "### Вывод:\n",
    "KMeans поделил кластеры по тем же признакам, просто поменял их порядок."
   ]
  },
  {
   "cell_type": "markdown",
   "id": "f00a7b5f",
   "metadata": {},
   "source": [
    "### Задание 2 [10] - дополнительное"
   ]
  },
  {
   "cell_type": "markdown",
   "id": "0abc252f",
   "metadata": {},
   "source": [
    "Используя сжатие признаков, оптимизируйте алгоритмы кластеризации с сохранением до 80% информации. Представить результаты сжатия и показать эффективность работы при сжатии (время работы алгоритма)"
   ]
  },
  {
   "cell_type": "markdown",
   "id": "2a89d2be",
   "metadata": {},
   "source": [
    "По результатам кластеринга приходит на ум, что если кластеров всего 4, то мы сможем обойтись 4 столбцами"
   ]
  },
  {
   "cell_type": "code",
   "execution_count": 75,
   "id": "5ed68fbe",
   "metadata": {},
   "outputs": [],
   "source": [
    "from sklearn.decomposition import PCA"
   ]
  },
  {
   "cell_type": "code",
   "execution_count": 76,
   "id": "95e28317",
   "metadata": {},
   "outputs": [],
   "source": [
    "pca = PCA(n_components=0.8)"
   ]
  },
  {
   "cell_type": "code",
   "execution_count": 80,
   "id": "8b052ab5",
   "metadata": {},
   "outputs": [],
   "source": [
    "pca_data = data.drop('cluster', axis=1)"
   ]
  },
  {
   "cell_type": "code",
   "execution_count": 81,
   "id": "eb860c6d",
   "metadata": {},
   "outputs": [],
   "source": [
    "pca_data = pca.fit_transform(pca_data)"
   ]
  },
  {
   "cell_type": "code",
   "execution_count": 88,
   "id": "445be45c",
   "metadata": {},
   "outputs": [],
   "source": [
    "import time"
   ]
  },
  {
   "cell_type": "code",
   "execution_count": 89,
   "id": "5dd8a7fd",
   "metadata": {},
   "outputs": [],
   "source": [
    "model = KMeans(n_clusters=4, random_state=42)\n",
    "t0 = time.time()\n",
    "model.fit(pca_data)\n",
    "t1 = time.time()"
   ]
  },
  {
   "cell_type": "code",
   "execution_count": 91,
   "id": "7bb85416",
   "metadata": {},
   "outputs": [
    {
     "name": "stdout",
     "output_type": "stream",
     "text": [
      "0.029633283615112305\n"
     ]
    }
   ],
   "source": [
    "print(t1-t0)"
   ]
  },
  {
   "cell_type": "code",
   "execution_count": 95,
   "id": "080f0cb1",
   "metadata": {},
   "outputs": [],
   "source": [
    "data['cluster'] = model.labels_"
   ]
  },
  {
   "cell_type": "code",
   "execution_count": 96,
   "id": "90e26087",
   "metadata": {},
   "outputs": [
    {
     "data": {
      "text/html": [
       "<div>\n",
       "<style scoped>\n",
       "    .dataframe tbody tr th:only-of-type {\n",
       "        vertical-align: middle;\n",
       "    }\n",
       "\n",
       "    .dataframe tbody tr th {\n",
       "        vertical-align: top;\n",
       "    }\n",
       "\n",
       "    .dataframe thead th {\n",
       "        text-align: right;\n",
       "    }\n",
       "</style>\n",
       "<table border=\"1\" class=\"dataframe\">\n",
       "  <thead>\n",
       "    <tr style=\"text-align: right;\">\n",
       "      <th></th>\n",
       "      <th>V1</th>\n",
       "      <th>V2</th>\n",
       "      <th>V3</th>\n",
       "      <th>V4</th>\n",
       "      <th>V5</th>\n",
       "      <th>V6</th>\n",
       "      <th>V7</th>\n",
       "      <th>V8</th>\n",
       "      <th>V9</th>\n",
       "      <th>V10</th>\n",
       "      <th>V11</th>\n",
       "    </tr>\n",
       "    <tr>\n",
       "      <th>cluster</th>\n",
       "      <th></th>\n",
       "      <th></th>\n",
       "      <th></th>\n",
       "      <th></th>\n",
       "      <th></th>\n",
       "      <th></th>\n",
       "      <th></th>\n",
       "      <th></th>\n",
       "      <th></th>\n",
       "      <th></th>\n",
       "      <th></th>\n",
       "    </tr>\n",
       "  </thead>\n",
       "  <tbody>\n",
       "    <tr>\n",
       "      <th>0</th>\n",
       "      <td>4.845455</td>\n",
       "      <td>4.800000</td>\n",
       "      <td>4.836364</td>\n",
       "      <td>4.681818</td>\n",
       "      <td>3.036364</td>\n",
       "      <td>3.036364</td>\n",
       "      <td>3.000000</td>\n",
       "      <td>2.990909</td>\n",
       "      <td>3.072727</td>\n",
       "      <td>3.045455</td>\n",
       "      <td>3.045455</td>\n",
       "    </tr>\n",
       "    <tr>\n",
       "      <th>1</th>\n",
       "      <td>2.824074</td>\n",
       "      <td>2.833333</td>\n",
       "      <td>2.768519</td>\n",
       "      <td>2.620370</td>\n",
       "      <td>2.611111</td>\n",
       "      <td>2.583333</td>\n",
       "      <td>2.750000</td>\n",
       "      <td>2.916667</td>\n",
       "      <td>4.953704</td>\n",
       "      <td>4.814815</td>\n",
       "      <td>4.861111</td>\n",
       "    </tr>\n",
       "    <tr>\n",
       "      <th>2</th>\n",
       "      <td>3.000000</td>\n",
       "      <td>3.000000</td>\n",
       "      <td>3.000000</td>\n",
       "      <td>3.000000</td>\n",
       "      <td>4.852459</td>\n",
       "      <td>4.852459</td>\n",
       "      <td>3.000000</td>\n",
       "      <td>2.918033</td>\n",
       "      <td>2.754098</td>\n",
       "      <td>2.754098</td>\n",
       "      <td>2.754098</td>\n",
       "    </tr>\n",
       "    <tr>\n",
       "      <th>3</th>\n",
       "      <td>3.000000</td>\n",
       "      <td>2.966102</td>\n",
       "      <td>2.966102</td>\n",
       "      <td>2.915254</td>\n",
       "      <td>2.915254</td>\n",
       "      <td>2.949153</td>\n",
       "      <td>4.915254</td>\n",
       "      <td>4.915254</td>\n",
       "      <td>3.000000</td>\n",
       "      <td>3.000000</td>\n",
       "      <td>3.000000</td>\n",
       "    </tr>\n",
       "  </tbody>\n",
       "</table>\n",
       "</div>"
      ],
      "text/plain": [
       "               V1        V2        V3        V4        V5        V6        V7  \\\n",
       "cluster                                                                         \n",
       "0        4.845455  4.800000  4.836364  4.681818  3.036364  3.036364  3.000000   \n",
       "1        2.824074  2.833333  2.768519  2.620370  2.611111  2.583333  2.750000   \n",
       "2        3.000000  3.000000  3.000000  3.000000  4.852459  4.852459  3.000000   \n",
       "3        3.000000  2.966102  2.966102  2.915254  2.915254  2.949153  4.915254   \n",
       "\n",
       "               V8        V9       V10       V11  \n",
       "cluster                                          \n",
       "0        2.990909  3.072727  3.045455  3.045455  \n",
       "1        2.916667  4.953704  4.814815  4.861111  \n",
       "2        2.918033  2.754098  2.754098  2.754098  \n",
       "3        4.915254  3.000000  3.000000  3.000000  "
      ]
     },
     "execution_count": 96,
     "metadata": {},
     "output_type": "execute_result"
    }
   ],
   "source": [
    "data.groupby('cluster').mean()"
   ]
  },
  {
   "cell_type": "code",
   "execution_count": 97,
   "id": "1bac396a",
   "metadata": {},
   "outputs": [],
   "source": [
    "model = KMeans(n_clusters=4, random_state=42)\n",
    "t0 = time.time()\n",
    "model.fit(data.drop('cluster', axis=1))\n",
    "t1 = time.time()"
   ]
  },
  {
   "cell_type": "code",
   "execution_count": 98,
   "id": "df013e12",
   "metadata": {},
   "outputs": [
    {
     "name": "stdout",
     "output_type": "stream",
     "text": [
      "0.03500628471374512\n"
     ]
    }
   ],
   "source": [
    "print(t1-t0)"
   ]
  },
  {
   "cell_type": "markdown",
   "id": "7094a162",
   "metadata": {},
   "source": [
    "### Вывод:\n",
    "Данных не так много, разница в скорости обучения модели конечно есть, но незначительная"
   ]
  }
 ],
 "metadata": {
  "hide_input": false,
  "kernelspec": {
   "display_name": "Python 3 (ipykernel)",
   "language": "python",
   "name": "python3"
  },
  "language_info": {
   "codemirror_mode": {
    "name": "ipython",
    "version": 3
   },
   "file_extension": ".py",
   "mimetype": "text/x-python",
   "name": "python",
   "nbconvert_exporter": "python",
   "pygments_lexer": "ipython3",
   "version": "3.9.6"
  },
  "toc": {
   "base_numbering": 1,
   "nav_menu": {},
   "number_sections": true,
   "sideBar": true,
   "skip_h1_title": false,
   "title_cell": "Table of Contents",
   "title_sidebar": "Contents",
   "toc_cell": false,
   "toc_position": {},
   "toc_section_display": true,
   "toc_window_display": false
  }
 },
 "nbformat": 4,
 "nbformat_minor": 5
}
